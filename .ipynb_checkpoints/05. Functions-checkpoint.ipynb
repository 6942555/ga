{
 "cells": [
  {
   "cell_type": "code",
   "execution_count": null,
   "metadata": {
    "id": "Dt-uoQoSEhwC"
   },
   "outputs": [],
   "source": [
    "# 5.1 Functions"
   ]
  },
  {
   "cell_type": "code",
   "execution_count": 4,
   "metadata": {
    "id": "uIl3hYc4EhwH"
   },
   "outputs": [
    {
     "name": "stdout",
     "output_type": "stream",
     "text": [
      "Hello, there\n"
     ]
    }
   ],
   "source": [
    "# A. Write a function that accepts one parameter, name\n",
    "#    The function should print the message \"Hello, _____.\" filling in the blank with the name\n",
    "def say_hello(name):\n",
    "    print(f'Hello, {name}')\n",
    "say_hello(\"there\")"
   ]
  },
  {
   "cell_type": "code",
   "execution_count": 3,
   "metadata": {
    "id": "a-H-aeUUEhwI"
   },
   "outputs": [
    {
     "name": "stdout",
     "output_type": "stream",
     "text": [
      "True\n",
      "False\n",
      "error\n"
     ]
    }
   ],
   "source": [
    "# B. Write a function that accepts one parameter, a number\n",
    "#    The function should return true or false depending on whether the number is even\n",
    "def is_even(number):\n",
    "    if (isinstance(number, int)):\n",
    "        if (number % 2) == 0:\n",
    "            return True\n",
    "        else:\n",
    "            return False\n",
    "    else:\n",
    "        return \"error\"\n",
    "\n",
    "print(is_even(2))\n",
    "print(is_even(3))\n",
    "print(is_even(\"hello\"))"
   ]
  },
  {
   "cell_type": "code",
   "execution_count": 27,
   "metadata": {
    "id": "zSj69EJ9EhwJ"
   },
   "outputs": [
    {
     "name": "stdout",
     "output_type": "stream",
     "text": [
      "6\n",
      "11.0\n"
     ]
    }
   ],
   "source": [
    "# C. Write a function that accepts one parameter, a list\n",
    "#    The function should return the sum total of all numbers in the list, using a loop\n",
    "def list_counter(countable):\n",
    "    total_count = 0\n",
    "    for item in countable:\n",
    "         if (isinstance(item, int)) or (isinstance(item, float)):  \n",
    "             total_count += item\n",
    "         else:\n",
    "            try:\n",
    "                convert_str = int(item)\n",
    "                if (isinstance(convert_str, int)):\n",
    "                    total_count += convert_str\n",
    "            except ValueError:\n",
    "                total_count +=0\n",
    "    return(total_count)\n",
    "\n",
    "list1 = [1,2,3]\n",
    "list2 = [\"one\", \"2\", False,3, 6.0]\n",
    "print(list_counter(list1))\n",
    "print(list_counter(list2))"
   ]
  },
  {
   "cell_type": "code",
   "execution_count": 1,
   "metadata": {
    "id": "bdFQ6y1fEhwK"
   },
   "outputs": [
    {
     "name": "stdout",
     "output_type": "stream",
     "text": [
      "Introducing Aristobulus X, Patriarch!\n"
     ]
    }
   ],
   "source": [
    "# D. Write a function that accepts one parameter, a dictionary\n",
    "#    The function should print the message \"Introducing ______ ______, ________!\"\n",
    "#    Fill in the blanks with the \"first_name\", \"last_name\", and \"title\" properties of the dictionary\n",
    "\n",
    "\n",
    "person = {\n",
    "    \"first_name\" : \"Aristobulus\", \"last_name\": \"X\", \"title\": \"Patriarch\"\n",
    "}\n",
    "\n",
    "def dict_introduce(intro):\n",
    "    print(f'Introducing {intro.get(\"first_name\")} {intro.get(\"last_name\")}, {intro.get(\"title\")}!')\n",
    "\n",
    "dict_introduce(person)"
   ]
  },
  {
   "cell_type": "code",
   "execution_count": null,
   "metadata": {
    "id": "_XfNX0A5EhwK"
   },
   "outputs": [],
   "source": [
    "# 5.2 Problem-Solving Functions"
   ]
  },
  {
   "cell_type": "code",
   "execution_count": 17,
   "metadata": {
    "id": "gNgcaQl5EhwL"
   },
   "outputs": [
    {
     "name": "stdout",
     "output_type": "stream",
     "text": [
      "size 5 three\n",
      "size 11 eleven-teen\n"
     ]
    }
   ],
   "source": [
    "# A. Find the longest string in a given list of strings\n",
    "def longest_str(str_list):\n",
    "    index= size= i= 0\n",
    "    for string in str_list:\n",
    "        cur_size = len(string)\n",
    "        if(cur_size > size):\n",
    "            size = cur_size\n",
    "            index = i\n",
    "        i+=1\n",
    "    print(f'size {size} {str_list[index]}')\n",
    "    \n",
    "ex_1 = [\"one\", \"two\", \"three\"]\n",
    "ex_2 = [\"eleven-teen\", \"seventy\",\"100\"]\n",
    "longest_str(ex_1)\n",
    "longest_str(ex_2)"
   ]
  },
  {
   "cell_type": "code",
   "execution_count": 21,
   "metadata": {
    "id": "Z9FFbKm9EhwL"
   },
   "outputs": [
    {
     "name": "stdout",
     "output_type": "stream",
     "text": [
      "True\n",
      "False\n",
      "True\n"
     ]
    }
   ],
   "source": [
    "# B. Determine whether a given list contains a given value\n",
    "def list_check(ls, value):\n",
    "    for item in ls:\n",
    "        if(item == value):\n",
    "            return True\n",
    "    return False\n",
    "\n",
    "list1 = [\"one\", \"two\", \"three\"]\n",
    "list2 = [1,2,3,\"four\"]\n",
    "\n",
    "print(list_check(list1, \"one\"))\n",
    "print(list_check(list2, \"one\"))\n",
    "print(list_check(list2, \"four\"))"
   ]
  },
  {
   "cell_type": "code",
   "execution_count": 1,
   "metadata": {
    "id": "N8emPzk9EhwM"
   },
   "outputs": [
    {
     "name": "stdout",
     "output_type": "stream",
     "text": [
      "3\n"
     ]
    }
   ],
   "source": [
    "# C. Count how many times a given string contains a given letter\n",
    "def letter_count(string, letter):\n",
    "    count = 0\n",
    "    for letters in string:\n",
    "        if letters == letter:\n",
    "            count+=1\n",
    "    return count\n",
    "print(letter_count(\"sausages\", \"a\"))\n",
    "print(letter_count(\"sausages\", \"s\"))"
   ]
  },
  {
   "cell_type": "code",
   "execution_count": 26,
   "metadata": {
    "id": "ghphf1quEhwN"
   },
   "outputs": [
    {
     "name": "stdout",
     "output_type": "stream",
     "text": [
      "l is the most common letter in hello\n",
      "s is the most common letter in sausages\n"
     ]
    }
   ],
   "source": [
    "# D. Find the most common letter in a given string, and use the previous function in your answer\n",
    "def most_common_letter(string):\n",
    "    index = size = i =0\n",
    "    for letter in string:\n",
    "        cur_size = letter_count(string, letter)\n",
    "        if cur_size > size:\n",
    "            size = cur_size\n",
    "            index = i\n",
    "        i+=1\n",
    "    print(f'{string[index]} is the most common letter in {string}')\n",
    "\n",
    "most_common_letter(\"hello\")\n",
    "most_common_letter(\"sausages\")"
   ]
  },
  {
   "cell_type": "code",
   "execution_count": 6,
   "metadata": {
    "id": "ZZPKxuQTEhwN"
   },
   "outputs": [
    {
     "data": {
      "text/plain": [
       "10.0"
      ]
     },
     "execution_count": 6,
     "metadata": {},
     "output_type": "execute_result"
    }
   ],
   "source": [
    "# E. Find the area of a triangle given its base and height as parameters\n",
    "def triangle_area(base, height):\n",
    "    return((base * height)/2)\n",
    "triangle_area(4,5)"
   ]
  },
  {
   "cell_type": "code",
   "execution_count": 2,
   "metadata": {},
   "outputs": [
    {
     "data": {
      "text/plain": [
       "15.0"
      ]
     },
     "execution_count": 2,
     "metadata": {},
     "output_type": "execute_result"
    }
   ],
   "source": [
    "def summation(num):\n",
    "    return ((num*(num+1))/2)\n",
    "summation(5)"
   ]
  },
  {
   "cell_type": "code",
   "execution_count": null,
   "metadata": {},
   "outputs": [],
   "source": []
  }
 ],
 "metadata": {
  "colab": {
   "collapsed_sections": [],
   "name": "05. Functions.ipynb",
   "provenance": []
  },
  "kernelspec": {
   "display_name": "Python 3 (ipykernel)",
   "language": "python",
   "name": "python3"
  },
  "language_info": {
   "codemirror_mode": {
    "name": "ipython",
    "version": 3
   },
   "file_extension": ".py",
   "mimetype": "text/x-python",
   "name": "python",
   "nbconvert_exporter": "python",
   "pygments_lexer": "ipython3",
   "version": "3.9.12"
  }
 },
 "nbformat": 4,
 "nbformat_minor": 1
}
