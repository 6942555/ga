{
 "cells": [
  {
   "cell_type": "markdown",
   "metadata": {
    "id": "TmiE-hVG0x4i"
   },
   "source": [
    "#### Error Scavenger Hunt\n",
    "For each code sample below, add a comment describing, in your own words, what the error type was, what it means, and how to fix it."
   ]
  },
  {
   "cell_type": "code",
   "execution_count": null,
   "metadata": {
    "id": "FCtQwdeB0x4n",
    "outputId": "1315fe0c-7a19-4b7d-e01f-bdf5cc9e34aa"
   },
   "outputs": [
    {
     "name": "stdout",
     "output_type": "stream",
     "text": [
      "--Return--\n",
      "None\n",
      "> \u001b[0;32m<ipython-input-3-3dc5ce19f212>\u001b[0m(4)\u001b[0;36m<module>\u001b[0;34m()\u001b[0m\n",
      "\u001b[0;32m      1 \u001b[0;31merrors = {\n",
      "\u001b[0m\u001b[0;32m      2 \u001b[0;31m    \u001b[0;34m\"Key Error\"\u001b[0m \u001b[0;34m:\u001b[0m \u001b[0;34m\"big mistake\"\u001b[0m\u001b[0;34m\u001b[0m\u001b[0;34m\u001b[0m\u001b[0m\n",
      "\u001b[0m\u001b[0;32m      3 \u001b[0;31m}\n",
      "\u001b[0m\u001b[0;32m----> 4 \u001b[0;31m\u001b[0mbreakpoint\u001b[0m\u001b[0;34m(\u001b[0m\u001b[0;34m)\u001b[0m\u001b[0;34m\u001b[0m\u001b[0;34m\u001b[0m\u001b[0m\n",
      "\u001b[0m\u001b[0;32m      5 \u001b[0;31m\u001b[0mprint\u001b[0m\u001b[0;34m(\u001b[0m\u001b[0;34mf\"Try to avoid committing a {errors['key_error']}\"\u001b[0m\u001b[0;34m)\u001b[0m\u001b[0;34m\u001b[0m\u001b[0;34m\u001b[0m\u001b[0m\n",
      "\u001b[0m\n",
      "ipdb> l\n",
      "\u001b[1;32m      1 \u001b[0merrors = {\n",
      "\u001b[1;32m      2 \u001b[0m    \u001b[0;34m\"Key Error\"\u001b[0m \u001b[0;34m:\u001b[0m \u001b[0;34m\"big mistake\"\u001b[0m\u001b[0;34m\u001b[0m\u001b[0;34m\u001b[0m\u001b[0m\n",
      "\u001b[1;32m      3 \u001b[0m}\n",
      "\u001b[0;32m----> 4 \u001b[0;31m\u001b[0mbreakpoint\u001b[0m\u001b[0;34m(\u001b[0m\u001b[0;34m)\u001b[0m\u001b[0;34m\u001b[0m\u001b[0;34m\u001b[0m\u001b[0m\n",
      "\u001b[0m\u001b[1;32m      5 \u001b[0m\u001b[0mprint\u001b[0m\u001b[0;34m(\u001b[0m\u001b[0;34mf\"Try to avoid committing a {errors['key_error']}\"\u001b[0m\u001b[0;34m)\u001b[0m\u001b[0;34m\u001b[0m\u001b[0;34m\u001b[0m\u001b[0m\n",
      "\n",
      "ipdb> errors\n",
      "{'Key Error': 'big mistake'}\n",
      "ipdb> display errors\n",
      "display errors: {'Key Error': 'big mistake'}\n"
     ]
    }
   ],
   "source": [
    "errors = {\n",
    "    \"Key Error\" : \"big mistake\"\n",
    "}\n",
    "print(f\"Try to avoid committing a {errors['key_error']}\")"
   ]
  },
  {
   "cell_type": "code",
   "execution_count": null,
   "metadata": {
    "id": "YIp9A_2Q0x4q"
   },
   "outputs": [],
   "source": [
    "print(f\"Similarly, it's easy to make an {errors.attribute_error}\")"
   ]
  },
  {
   "cell_type": "code",
   "execution_count": null,
   "metadata": {
    "id": "AYtJEDJX0x4r"
   },
   "outputs": [],
   "source": [
    "import CodeWithoutErrors"
   ]
  },
  {
   "cell_type": "code",
   "execution_count": null,
   "metadata": {
    "id": "yywGj6590x4s",
    "scrolled": true
   },
   "outputs": [],
   "source": [
    "race_runners = [\"Yuna\", \"Bill\", \"Hyun\"]\n",
    "\n",
    "first_place = race_runners[1]\n",
    "second_place = race_runners[2]\n",
    "third_place = race_runners[3]\n",
    "\n",
    "print(\"The winners are:\", first_place, second_place, third_place) "
   ]
  },
  {
   "cell_type": "code",
   "execution_count": null,
   "metadata": {
    "id": "XRpd0UWG0x4t",
    "scrolled": true
   },
   "outputs": [],
   "source": [
    "code_is_perfect = False\n",
    "if code_is_perfect:\n",
    "print(\"I am invincible!\")"
   ]
  },
  {
   "cell_type": "code",
   "execution_count": null,
   "metadata": {
    "id": "boCObi3B0x4t",
    "scrolled": true
   },
   "outputs": [],
   "source": [
    "print(nameless_variable)"
   ]
  },
  {
   "cell_type": "code",
   "execution_count": null,
   "metadata": {
    "id": "TcswMLhe0x4u",
    "scrolled": true
   },
   "outputs": [],
   "source": [
    "knowledge_of_python = 40\n",
    "if knowledge_of_python > 50\n",
    "    print(\"you will never make a mistake again\")"
   ]
  },
  {
   "cell_type": "code",
   "execution_count": null,
   "metadata": {
    "id": "quBjtB4n0x4u",
    "scrolled": true
   },
   "outputs": [],
   "source": [
    "print(99 + \"Red Balloons\")"
   ]
  },
  {
   "cell_type": "code",
   "execution_count": null,
   "metadata": {
    "id": "x5wKn8sy0x4v"
   },
   "outputs": [],
   "source": [
    "5 + int(\"five\")"
   ]
  },
  {
   "cell_type": "markdown",
   "metadata": {
    "id": "5_cbqWXg0x4v"
   },
   "source": [
    "#### Exceptional Error Handling\n",
    "We want to add some restrictions to the user_creation function below:\n",
    "\n",
    "username must be unique. If a user in all_users has the same username, raise an exception.\n",
    "\n",
    "email must match a standard email regex pattern. Hint: this is a classic google situation!\n",
    "\n",
    "password must be at least 8 characters and contain a number. Hint: \"test if a string contains a number python\""
   ]
  },
  {
   "cell_type": "code",
   "execution_count": null,
   "metadata": {
    "id": "5mQQTbWC0x4w"
   },
   "outputs": [],
   "source": [
    "# A.\n",
    "# Add exception raising to the user creation method to ensure users with invalid properties throw errors\n",
    "# We will store users as dictionaries in a list titled all_users\n",
    "# For each property, raise an exception with a specific error message so we can test the message later\n",
    "# Only fully valid users should make it to the all_users list\n",
    "all_users = []\n",
    "\n",
    "def user_creation(username, email, password):\n",
    "  record = dict()\n",
    "  record['username'] = username\n",
    "  record['email'] = email\n",
    "  record['password'] = password\n",
    "\n",
    "  all_users.append(record)\n",
    "  print(f\"SUCCESSFULLY CREATED THE USER {username} WITH EMAIL {email} AND PASSWORD {password}\")  \n",
    "\n"
   ]
  },
  {
   "cell_type": "code",
   "execution_count": null,
   "metadata": {
    "id": "SmFH9WOj0x4x"
   },
   "outputs": [],
   "source": [
    "# what about if there is an error, and we want user input to clean the record up?\n",
    "\n",
    "\n",
    "# B.\n",
    "# Add try/except handling to this function\n",
    "# If an error is raised, check the error message to determine what value is invalid\n",
    "# Use the input function to get a new input for the invalid value\n",
    "# Once you have a new value from the user, invoke create_new_user again with updated input value\n",
    "def create_new_user(username, email, password):\n",
    "    new_user = user_creation(username, email, password)\n",
    "    return new_user"
   ]
  },
  {
   "cell_type": "code",
   "execution_count": null,
   "metadata": {
    "id": "YsiK80hG0x4x"
   },
   "outputs": [],
   "source": [
    "# C.    \n",
    "users_awaiting_creation = [\n",
    "    {\"username\":\"El_Barto\", \"email\":\"el_barto@gmail.com\", \"password\":\"a1b2c3d4\"}, #should be valid\n",
    "    {\"username\":\"El_Barto\", \"email\":\"barto_the_second@gmail.com\", \"password\":\"a1b2c3d4\"}, #should be invalid due to username\n",
    "    {\"username\":\"pythonista\", \"email\":\"programmer_supreme@hotmail.com\", \"password\":\"2short\"}, #should have invalid password length\n",
    "    {\"username\":\"verbose_user\", \"email\":\"iliketypingalot@aol.com\", \"password\":\"longenoughbutnodigits\"}, #should be invalid password due to no digits\n",
    "    {\"username\":\"off_tha_grid\", \"email\":\"none_provided\", \"password\":\"iburygold3\"},\n",
    "]\n",
    "# This loop should raise a good deal of errors due to bad user data\n",
    "# If you've added proper input prompts and error handling, you should be able to type in valid alternatives\n",
    "# By the end, you should see successful creation messages for the 5 users\n",
    "for user in users_awaiting_creation:\n",
    "    new_user = create_new_user(user[\"username\"], user[\"email\"], user[\"password\"])"
   ]
  }
 ],
 "metadata": {
  "colab": {
   "collapsed_sections": [],
   "name": "08. Debugging and Error Handling.ipynb",
   "provenance": []
  },
  "kernelspec": {
   "display_name": "Python 3 (ipykernel)",
   "language": "python",
   "name": "python3"
  },
  "language_info": {
   "codemirror_mode": {
    "name": "ipython",
    "version": 3
   },
   "file_extension": ".py",
   "mimetype": "text/x-python",
   "name": "python",
   "nbconvert_exporter": "python",
   "pygments_lexer": "ipython3",
   "version": "3.9.12"
  }
 },
 "nbformat": 4,
 "nbformat_minor": 1
}
