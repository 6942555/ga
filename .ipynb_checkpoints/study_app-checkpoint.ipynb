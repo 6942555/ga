{
 "cells": [
  {
   "cell_type": "code",
   "execution_count": 75,
   "metadata": {},
   "outputs": [
    {
     "name": "stdout",
     "output_type": "stream",
     "text": [
      "[a]dd a new question, [s]tudy session, or [q]uit.\n",
      "What would you like to do?s\n",
      "[{'question': 'is it good', 'responses': \"['yes', 'no', 'maybe']\", 'correct_response': 'maybe', 'tags': \"['']\"}, {'question': 'is it cool', 'responses': \"['yes', 'no', 'maybe']\", 'correct_response': 'no', 'tags': \"['']\"}, {'question': 'am i tired', 'responses': \"['yes', 'no', 'maybe']\", 'correct_response': 'yes', 'tags': \"['']\"}, {'question': 'whats up', 'responses': \"['dunno', 'doknow']\", 'correct_response': 'dunno', 'tags': \"['']\"}]\n",
      "whats up\n",
      "{'a': 'dunno', 'b': 'doknow'}\n"
     ]
    },
    {
     "ename": "KeyboardInterrupt",
     "evalue": "Interrupted by user",
     "output_type": "error",
     "traceback": [
      "\u001b[1;31m---------------------------------------------------------------------------\u001b[0m",
      "\u001b[1;31mKeyboardInterrupt\u001b[0m                         Traceback (most recent call last)",
      "Input \u001b[1;32mIn [75]\u001b[0m, in \u001b[0;36m<cell line: 15>\u001b[1;34m()\u001b[0m\n\u001b[0;32m     20\u001b[0m     add_question()\n\u001b[0;32m     22\u001b[0m \u001b[38;5;28;01melif\u001b[39;00m current_task \u001b[38;5;241m==\u001b[39m \u001b[38;5;124m\"\u001b[39m\u001b[38;5;124ms\u001b[39m\u001b[38;5;124m\"\u001b[39m:\n\u001b[1;32m---> 23\u001b[0m     \u001b[43minitiate_study_session\u001b[49m\u001b[43m(\u001b[49m\u001b[43m)\u001b[49m\n",
      "Input \u001b[1;32mIn [74]\u001b[0m, in \u001b[0;36minitiate_study_session\u001b[1;34m()\u001b[0m\n\u001b[0;32m     39\u001b[0m     label \u001b[38;5;241m=\u001b[39m \u001b[38;5;28mchr\u001b[39m(label)\n\u001b[0;32m     40\u001b[0m \u001b[38;5;28mprint\u001b[39m(\u001b[38;5;124mf\u001b[39m\u001b[38;5;124m'\u001b[39m\u001b[38;5;132;01m{\u001b[39;00mlabelled_responses\u001b[38;5;132;01m}\u001b[39;00m\u001b[38;5;124m'\u001b[39m)\n\u001b[1;32m---> 41\u001b[0m current_choice \u001b[38;5;241m=\u001b[39m \u001b[38;5;28;43minput\u001b[39;49m\u001b[43m(\u001b[49m\u001b[38;5;124;43m\"\u001b[39;49m\u001b[38;5;124;43menter answer\u001b[39;49m\u001b[38;5;124;43m\"\u001b[39;49m\u001b[43m)\u001b[49m\n\u001b[0;32m     42\u001b[0m \u001b[38;5;28;01mif\u001b[39;00m labelled_responses\u001b[38;5;241m.\u001b[39mget(current_choice) \u001b[38;5;241m==\u001b[39m current_question\u001b[38;5;241m.\u001b[39mget(\u001b[38;5;124m\"\u001b[39m\u001b[38;5;124mcorrect_response\u001b[39m\u001b[38;5;124m\"\u001b[39m):\n\u001b[0;32m     43\u001b[0m     \u001b[38;5;28mprint\u001b[39m(\u001b[38;5;124mf\u001b[39m\u001b[38;5;124m'\u001b[39m\u001b[38;5;124mthat was the correct response\u001b[39m\u001b[38;5;124m'\u001b[39m)\n",
      "File \u001b[1;32mD:\\anaconda\\lib\\site-packages\\ipykernel\\kernelbase.py:1075\u001b[0m, in \u001b[0;36mKernel.raw_input\u001b[1;34m(self, prompt)\u001b[0m\n\u001b[0;32m   1071\u001b[0m \u001b[38;5;28;01mif\u001b[39;00m \u001b[38;5;129;01mnot\u001b[39;00m \u001b[38;5;28mself\u001b[39m\u001b[38;5;241m.\u001b[39m_allow_stdin:\n\u001b[0;32m   1072\u001b[0m     \u001b[38;5;28;01mraise\u001b[39;00m StdinNotImplementedError(\n\u001b[0;32m   1073\u001b[0m         \u001b[38;5;124m\"\u001b[39m\u001b[38;5;124mraw_input was called, but this frontend does not support input requests.\u001b[39m\u001b[38;5;124m\"\u001b[39m\n\u001b[0;32m   1074\u001b[0m     )\n\u001b[1;32m-> 1075\u001b[0m \u001b[38;5;28;01mreturn\u001b[39;00m \u001b[38;5;28;43mself\u001b[39;49m\u001b[38;5;241;43m.\u001b[39;49m\u001b[43m_input_request\u001b[49m\u001b[43m(\u001b[49m\n\u001b[0;32m   1076\u001b[0m \u001b[43m    \u001b[49m\u001b[38;5;28;43mstr\u001b[39;49m\u001b[43m(\u001b[49m\u001b[43mprompt\u001b[49m\u001b[43m)\u001b[49m\u001b[43m,\u001b[49m\n\u001b[0;32m   1077\u001b[0m \u001b[43m    \u001b[49m\u001b[38;5;28;43mself\u001b[39;49m\u001b[38;5;241;43m.\u001b[39;49m\u001b[43m_parent_ident\u001b[49m\u001b[43m[\u001b[49m\u001b[38;5;124;43m\"\u001b[39;49m\u001b[38;5;124;43mshell\u001b[39;49m\u001b[38;5;124;43m\"\u001b[39;49m\u001b[43m]\u001b[49m\u001b[43m,\u001b[49m\n\u001b[0;32m   1078\u001b[0m \u001b[43m    \u001b[49m\u001b[38;5;28;43mself\u001b[39;49m\u001b[38;5;241;43m.\u001b[39;49m\u001b[43mget_parent\u001b[49m\u001b[43m(\u001b[49m\u001b[38;5;124;43m\"\u001b[39;49m\u001b[38;5;124;43mshell\u001b[39;49m\u001b[38;5;124;43m\"\u001b[39;49m\u001b[43m)\u001b[49m\u001b[43m,\u001b[49m\n\u001b[0;32m   1079\u001b[0m \u001b[43m    \u001b[49m\u001b[43mpassword\u001b[49m\u001b[38;5;241;43m=\u001b[39;49m\u001b[38;5;28;43;01mFalse\u001b[39;49;00m\u001b[43m,\u001b[49m\n\u001b[0;32m   1080\u001b[0m \u001b[43m\u001b[49m\u001b[43m)\u001b[49m\n",
      "File \u001b[1;32mD:\\anaconda\\lib\\site-packages\\ipykernel\\kernelbase.py:1120\u001b[0m, in \u001b[0;36mKernel._input_request\u001b[1;34m(self, prompt, ident, parent, password)\u001b[0m\n\u001b[0;32m   1117\u001b[0m             \u001b[38;5;28;01mbreak\u001b[39;00m\n\u001b[0;32m   1118\u001b[0m \u001b[38;5;28;01mexcept\u001b[39;00m \u001b[38;5;167;01mKeyboardInterrupt\u001b[39;00m:\n\u001b[0;32m   1119\u001b[0m     \u001b[38;5;66;03m# re-raise KeyboardInterrupt, to truncate traceback\u001b[39;00m\n\u001b[1;32m-> 1120\u001b[0m     \u001b[38;5;28;01mraise\u001b[39;00m \u001b[38;5;167;01mKeyboardInterrupt\u001b[39;00m(\u001b[38;5;124m\"\u001b[39m\u001b[38;5;124mInterrupted by user\u001b[39m\u001b[38;5;124m\"\u001b[39m) \u001b[38;5;28;01mfrom\u001b[39;00m \u001b[38;5;28mNone\u001b[39m\n\u001b[0;32m   1121\u001b[0m \u001b[38;5;28;01mexcept\u001b[39;00m \u001b[38;5;167;01mException\u001b[39;00m:\n\u001b[0;32m   1122\u001b[0m     \u001b[38;5;28mself\u001b[39m\u001b[38;5;241m.\u001b[39mlog\u001b[38;5;241m.\u001b[39mwarning(\u001b[38;5;124m\"\u001b[39m\u001b[38;5;124mInvalid Message:\u001b[39m\u001b[38;5;124m\"\u001b[39m, exc_info\u001b[38;5;241m=\u001b[39m\u001b[38;5;28;01mTrue\u001b[39;00m)\n",
      "\u001b[1;31mKeyboardInterrupt\u001b[0m: Interrupted by user"
     ]
    }
   ],
   "source": [
    "# https://docs.python.org/3/library/csv.html\n",
    "import os\n",
    "import random\n",
    "import csv\n",
    "import re\n",
    "\n",
    "if not os.path.exists(\"./study_helper.csv\"):\n",
    "    with open(\"./study_helper.csv\", \"w\", newline='') as file:\n",
    "        # A. Use csv.DictWriter to write the headings into the file\n",
    "        headings = [\"question\", \"responses\",\"correct_response\", \"tags\"]\n",
    "        headings_writer = csv.DictWriter(file, fieldnames = headings)\n",
    "        headings_writer.writeheader() #writes the headers\n",
    "\n",
    "current_task = \"\"\n",
    "while current_task != \"q\":\n",
    "    print(\"[a]dd a new question, [s]tudy session, or [q]uit.\")\n",
    "    current_task = input(\"What would you like to do?\")\n",
    "    # Use a conditional to respond to what the user has chosen by executing one of the functions defined below\n",
    "    if current_task == \"a\":\n",
    "        add_question()\n",
    "    \n",
    "    elif current_task == \"s\":\n",
    "        initiate_study_session()\n",
    "    \n",
    "    \n",
    "    \n",
    "    \n",
    "    \n",
    "    "
   ]
  },
  {
   "cell_type": "code",
   "execution_count": 42,
   "metadata": {},
   "outputs": [],
   "source": [
    "def add_question():\n",
    "    # Access the questions.csv file and prompt the user for input to create a new question\n",
    "    # Use a similar loop to the main application loop to ensure valid input\n",
    "    \n",
    "    #add to; saving answers?\n",
    "    headings = [\"question\", \"responses\",\"correct_response\", \"tags\"]\n",
    "    \n",
    "    question_text = input(\"enter question text\")\n",
    "    #change regex used later so it doesnt remove whitespace, could be a problem\n",
    "    responses = input(\"enter potential responses (separated by comma)\")\n",
    "    responses = responses.split(\",\") #splits input into a list\n",
    "    correct_response = input(\"enter correct response\")\n",
    "    if not correct_response in responses: #checks if responses match correct resp\n",
    "        print(f'{responses}, correct answer is {correct_response}')\n",
    "        correct_response = input(\"correct response doesn't match, please reenter\")\n",
    "        \n",
    "    tags = input(\"enter any tags (separated by comma)\")\n",
    "    #if tags == None:\n",
    "    #    tags = \"\"\n",
    "    tags = tags.split(\",\") #possible search function for tags\n",
    "    \n",
    "    with open(\"./study_helper.csv\", \"a\", newline='') as file: #appends question to file\n",
    "        quest_dict= {headings[0]:question_text, headings[1]:responses, headings[2]:correct_response, headings[3]:tags}\n",
    "        question__writer = csv.DictWriter(file, fieldnames = headings)\n",
    "        question__writer.writerow(quest_dict)\n",
    "    return"
   ]
  },
  {
   "cell_type": "code",
   "execution_count": 74,
   "metadata": {},
   "outputs": [],
   "source": [
    "def initiate_study_session():\n",
    "    questions = []\n",
    "    # Access the questions.csv file to load all questions into the list above\n",
    "    with open(\"./study_helper.csv\", \"r\", newline='') as file:\n",
    "        #question_reader = csv.DictReader(file, fieldnames = headings)\n",
    "        question_reader = csv.DictReader(file)\n",
    "        for row in question_reader:\n",
    "            questions.append(row)\n",
    "    \n",
    "    current_choice = \"\"\n",
    "    continue_session = True\n",
    "    while continue_session == True:\n",
    "        \n",
    "        current_question = random.choice(questions) #nothing to prevent repeat questions\n",
    "        #create new list, pop off used questions\n",
    "        #new list also works for searching by tags, prunes list that way\n",
    "        #regex again to clean the damn tags\n",
    "        responses = current_question.get(\"responses\")\n",
    "\n",
    "        #responses = responses.split(\",\")\n",
    "        responses = re.split(r'(?:[,\\[\\]\\'])+', responses)#regex meme remains relevant\n",
    "        #shuf deprecated\n",
    "        #random.shuffle(responses)\n",
    "        question_text = current_question.get(\"question\")\n",
    "        #qt = current_question.keys()\n",
    "        print(f'{question_text}')\n",
    "        label = \"a\"\n",
    "        labelled_responses = {}\n",
    "        for response in responses:\n",
    "            if response ==\"\": #regex gives some empty answers, this filters those\n",
    "                continue\n",
    "            labelled_responses.update({label:resp}) #dict in the style {a: some answer}\n",
    "            label = (ord(label) +1) #increments letter char by one\n",
    "            label = chr(label)\n",
    "        print(f'{labelled_responses}')\n",
    "        current_choice = input(\"enter answer\")\n",
    "        #if choice, when in put in responses dict, matches correct answer\n",
    "        if labelled_responses.get(current_choice) == current_question.get(\"correct_response\"):\n",
    "            print(f'that was the correct response')\n",
    "        else:\n",
    "            print(f'incorrect. correct response is {current_question.get(\"correct_response\")}')\n",
    "                \n",
    "        current_choice = input(\"[q]uit, [enter] to continue\")\n",
    "        if current_choice == \"q\":\n",
    "            continue_session = False\n",
    "        # Choose a random question to display to the user\n",
    "        # Use the input function while displaying answer options"
   ]
  },
  {
   "cell_type": "code",
   "execution_count": null,
   "metadata": {},
   "outputs": [],
   "source": []
  }
 ],
 "metadata": {
  "kernelspec": {
   "display_name": "Python 3 (ipykernel)",
   "language": "python",
   "name": "python3"
  },
  "language_info": {
   "codemirror_mode": {
    "name": "ipython",
    "version": 3
   },
   "file_extension": ".py",
   "mimetype": "text/x-python",
   "name": "python",
   "nbconvert_exporter": "python",
   "pygments_lexer": "ipython3",
   "version": "3.9.12"
  }
 },
 "nbformat": 4,
 "nbformat_minor": 4
}
