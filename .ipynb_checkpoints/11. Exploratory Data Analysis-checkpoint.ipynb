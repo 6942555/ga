{
 "cells": [
  {
   "cell_type": "code",
   "execution_count": 1,
   "metadata": {},
   "outputs": [
    {
     "name": "stdout",
     "output_type": "stream",
     "text": [
      "Requirement already satisfied: pandas in d:\\anaconda\\lib\\site-packages (1.4.2)\n",
      "Requirement already satisfied: numpy>=1.18.5 in d:\\anaconda\\lib\\site-packages (from pandas) (1.21.5)\n",
      "Requirement already satisfied: python-dateutil>=2.8.1 in d:\\anaconda\\lib\\site-packages (from pandas) (2.8.2)\n",
      "Requirement already satisfied: pytz>=2020.1 in d:\\anaconda\\lib\\site-packages (from pandas) (2021.3)\n",
      "Requirement already satisfied: six>=1.5 in d:\\anaconda\\lib\\site-packages (from python-dateutil>=2.8.1->pandas) (1.16.0)\n",
      "Note: you may need to restart the kernel to use updated packages.\n"
     ]
    }
   ],
   "source": [
    "%pip install pandas"
   ]
  },
  {
   "cell_type": "code",
   "execution_count": 1,
   "metadata": {},
   "outputs": [],
   "source": [
    "# 8.1 EDA Demonstration\n",
    "import pandas as pd\n",
    "%matplotlib inline"
   ]
  },
  {
   "cell_type": "code",
   "execution_count": 2,
   "metadata": {},
   "outputs": [],
   "source": [
    "# We will store the orders table csv data in a variable\n",
    "data_frame = pd.read_csv(r\"C:\\Users\\black\\ga python\\orders.csv\")\n"
   ]
  },
  {
   "cell_type": "code",
   "execution_count": 7,
   "metadata": {
    "scrolled": false
   },
   "outputs": [
    {
     "data": {
      "text/html": [
       "<div>\n",
       "<style scoped>\n",
       "    .dataframe tbody tr th:only-of-type {\n",
       "        vertical-align: middle;\n",
       "    }\n",
       "\n",
       "    .dataframe tbody tr th {\n",
       "        vertical-align: top;\n",
       "    }\n",
       "\n",
       "    .dataframe thead th {\n",
       "        text-align: right;\n",
       "    }\n",
       "</style>\n",
       "<table border=\"1\" class=\"dataframe\">\n",
       "  <thead>\n",
       "    <tr style=\"text-align: right;\">\n",
       "      <th></th>\n",
       "      <th>order_id</th>\n",
       "      <th>order_date</th>\n",
       "      <th>ship_date</th>\n",
       "      <th>ship_mode</th>\n",
       "      <th>customer_id</th>\n",
       "      <th>product_id</th>\n",
       "      <th>sales</th>\n",
       "      <th>quantity</th>\n",
       "      <th>discount</th>\n",
       "      <th>profit</th>\n",
       "      <th>postal_code</th>\n",
       "      <th>region_id</th>\n",
       "    </tr>\n",
       "  </thead>\n",
       "  <tbody>\n",
       "    <tr>\n",
       "      <th>0</th>\n",
       "      <td>AE-2016-1308551</td>\n",
       "      <td>2016-09-28</td>\n",
       "      <td>2016-10-02</td>\n",
       "      <td>Second Class</td>\n",
       "      <td>PO-8865</td>\n",
       "      <td>OFF-FEL-10001405</td>\n",
       "      <td>82.67</td>\n",
       "      <td>2</td>\n",
       "      <td>0.3</td>\n",
       "      <td>0.3</td>\n",
       "      <td>NaN</td>\n",
       "      <td>9954.0</td>\n",
       "    </tr>\n",
       "    <tr>\n",
       "      <th>1</th>\n",
       "      <td>AE-2016-1522857</td>\n",
       "      <td>2016-09-04</td>\n",
       "      <td>2016-09-09</td>\n",
       "      <td>Standard Class</td>\n",
       "      <td>PO-8865</td>\n",
       "      <td>TEC-EPS-10004171</td>\n",
       "      <td>78.41</td>\n",
       "      <td>6</td>\n",
       "      <td>0.5</td>\n",
       "      <td>0.5</td>\n",
       "      <td>NaN</td>\n",
       "      <td>4792.0</td>\n",
       "    </tr>\n",
       "    <tr>\n",
       "      <th>2</th>\n",
       "      <td>AE-2016-184765</td>\n",
       "      <td>2016-10-03</td>\n",
       "      <td>2016-10-07</td>\n",
       "      <td>Second Class</td>\n",
       "      <td>PO-8865</td>\n",
       "      <td>OFF-FEL-10001405</td>\n",
       "      <td>82.67</td>\n",
       "      <td>2</td>\n",
       "      <td>0.3</td>\n",
       "      <td>0.3</td>\n",
       "      <td>NaN</td>\n",
       "      <td>19848.0</td>\n",
       "    </tr>\n",
       "    <tr>\n",
       "      <th>3</th>\n",
       "      <td>AE-2016-1878215</td>\n",
       "      <td>2016-09-15</td>\n",
       "      <td>2016-09-17</td>\n",
       "      <td>Standard Class</td>\n",
       "      <td>PO-8865</td>\n",
       "      <td>TEC-EPS-10004171</td>\n",
       "      <td>78.41</td>\n",
       "      <td>6</td>\n",
       "      <td>0.5</td>\n",
       "      <td>0.5</td>\n",
       "      <td>NaN</td>\n",
       "      <td>1410.0</td>\n",
       "    </tr>\n",
       "    <tr>\n",
       "      <th>4</th>\n",
       "      <td>AE-2016-218276</td>\n",
       "      <td>2016-10-09</td>\n",
       "      <td>2016-10-12</td>\n",
       "      <td>Standard Class</td>\n",
       "      <td>PO-8865</td>\n",
       "      <td>TEC-EPS-10004171</td>\n",
       "      <td>78.41</td>\n",
       "      <td>6</td>\n",
       "      <td>0.5</td>\n",
       "      <td>0.5</td>\n",
       "      <td>NaN</td>\n",
       "      <td>1826.0</td>\n",
       "    </tr>\n",
       "  </tbody>\n",
       "</table>\n",
       "</div>"
      ],
      "text/plain": [
       "          order_id  order_date   ship_date       ship_mode customer_id  \\\n",
       "0  AE-2016-1308551  2016-09-28  2016-10-02    Second Class     PO-8865   \n",
       "1  AE-2016-1522857  2016-09-04  2016-09-09  Standard Class     PO-8865   \n",
       "2   AE-2016-184765  2016-10-03  2016-10-07    Second Class     PO-8865   \n",
       "3  AE-2016-1878215  2016-09-15  2016-09-17  Standard Class     PO-8865   \n",
       "4   AE-2016-218276  2016-10-09  2016-10-12  Standard Class     PO-8865   \n",
       "\n",
       "         product_id  sales  quantity  discount  profit  postal_code  region_id  \n",
       "0  OFF-FEL-10001405  82.67         2       0.3     0.3          NaN     9954.0  \n",
       "1  TEC-EPS-10004171  78.41         6       0.5     0.5          NaN     4792.0  \n",
       "2  OFF-FEL-10001405  82.67         2       0.3     0.3          NaN    19848.0  \n",
       "3  TEC-EPS-10004171  78.41         6       0.5     0.5          NaN     1410.0  \n",
       "4  TEC-EPS-10004171  78.41         6       0.5     0.5          NaN     1826.0  "
      ]
     },
     "execution_count": 7,
     "metadata": {},
     "output_type": "execute_result"
    }
   ],
   "source": [
    "# Use the head method to investigate the first row of data\n",
    "data_frame.head()"
   ]
  },
  {
   "cell_type": "code",
   "execution_count": 31,
   "metadata": {},
   "outputs": [
    {
     "name": "stdout",
     "output_type": "stream",
     "text": [
      "<class 'pandas.core.frame.DataFrame'>\n",
      "RangeIndex: 999991 entries, 0 to 999990\n",
      "Data columns (total 12 columns):\n",
      " #   Column         Non-Null Count   Dtype  \n",
      "---  ------         --------------   -----  \n",
      " 0   order_id       999991 non-null  object \n",
      " 1   order_date     999991 non-null  object \n",
      " 2   ship_date      999991 non-null  object \n",
      " 3   shipping_mode  999991 non-null  object \n",
      " 4   customer_id    999991 non-null  object \n",
      " 5   product_id     999991 non-null  object \n",
      " 6   sales          999991 non-null  float64\n",
      " 7   quantity       999991 non-null  int64  \n",
      " 8   discount       999991 non-null  float64\n",
      " 9   profit         999991 non-null  float64\n",
      " 10  postal_code    192888 non-null  float64\n",
      " 11  region_id      999795 non-null  float64\n",
      "dtypes: float64(5), int64(1), object(6)\n",
      "memory usage: 91.6+ MB\n"
     ]
    }
   ],
   "source": [
    "# Use the .info method to view the column names and data types\n",
    "data_frame.info()"
   ]
  },
  {
   "cell_type": "code",
   "execution_count": 12,
   "metadata": {},
   "outputs": [
    {
     "data": {
      "text/plain": [
       "(999991, 12)"
      ]
     },
     "execution_count": 12,
     "metadata": {},
     "output_type": "execute_result"
    }
   ],
   "source": [
    "# Use the shape attribute to determine the amount of rows and columns total\n",
    "data_frame.shape"
   ]
  },
  {
   "cell_type": "code",
   "execution_count": 28,
   "metadata": {},
   "outputs": [
    {
     "name": "stdout",
     "output_type": "stream",
     "text": [
      "Index(['order_id', 'order_date', 'ship_date', 'ship_mode', 'customer_id',\n",
      "       'product_id', 'sales', 'quantity', 'discount', 'profit', 'postal_code',\n",
      "       'region_id'],\n",
      "      dtype='object')\n",
      "index\n"
     ]
    }
   ],
   "source": [
    "# Use the .columns property to list out the column names\n",
    "# Use the .index.name property to identify the index\n",
    "print(f'{data_frame.columns}')\n",
    "data_frame.index.name = \"index\"\n",
    "print(f'{data_frame.index.name}')\n"
   ]
  },
  {
   "cell_type": "code",
   "execution_count": 5,
   "metadata": {},
   "outputs": [],
   "source": [
    "# Provide a dictionary to the rename method to rename any columns\n",
    "# The inplace flag determines whether to modify the original dataframe\n",
    "data_frame.rename(columns={'ship_mode':'shipping_mode'}, inplace=True)"
   ]
  },
  {
   "cell_type": "code",
   "execution_count": 34,
   "metadata": {},
   "outputs": [
    {
     "name": "stdout",
     "output_type": "stream",
     "text": [
      "count    999991.000000\n",
      "mean        245.885888\n",
      "std         481.540695\n",
      "min           0.440000\n",
      "25%          30.680000\n",
      "50%          84.780000\n",
      "75%         250.740000\n",
      "max       22638.480000\n",
      "Name: sales, dtype: float64\n",
      "BE-11335    2208\n",
      "PO-18850    2069\n",
      "MP-17965    1895\n",
      "JG-15805    1831\n",
      "SC-20380    1759\n",
      "            ... \n",
      "ME-8010       22\n",
      "MG-7650       19\n",
      "BG-1035       16\n",
      "RC-9825       12\n",
      "DK-2985        2\n",
      "Name: customer_id, Length: 1590, dtype: int64\n",
      "['PO-8865' 'EB-4110' 'MY-7380' ... 'MG-7890' 'MG-7875' 'NM-8520']\n"
     ]
    }
   ],
   "source": [
    "# Explore columns with column attributes and methods\n",
    "print(f\"{data_frame.sales.describe()}\")\n",
    "print(f'{data_frame.customer_id.value_counts()}')\n",
    "print(f'{data_frame.customer_id.unique()}')"
   ]
  },
  {
   "cell_type": "code",
   "execution_count": 3,
   "metadata": {},
   "outputs": [],
   "source": [
    "# 8.2 Exploring a new dataset\n",
    "# Import the products.csv dataset and explore the following questions:\n",
    "d_f_products = pd.read_csv(r\"C:\\Users\\black\\ga python\\products.csv\")"
   ]
  },
  {
   "cell_type": "code",
   "execution_count": 27,
   "metadata": {
    "scrolled": false
   },
   "outputs": [
    {
     "name": "stdout",
     "output_type": "stream",
     "text": [
      "None\n",
      "<class 'pandas.core.frame.DataFrame'>\n",
      "RangeIndex: 10292 entries, 0 to 10291\n",
      "Data columns (total 5 columns):\n",
      " #   Column                    Non-Null Count  Dtype  \n",
      "---  ------                    --------------  -----  \n",
      " 0   product_id                10292 non-null  object \n",
      " 1   category                  10292 non-null  object \n",
      " 2   sub_category              10292 non-null  object \n",
      " 3   product_name              10292 non-null  object \n",
      " 4   product_cost_to_consumer  10292 non-null  float64\n",
      "dtypes: float64(1), object(4)\n",
      "memory usage: 402.2+ KB\n"
     ]
    }
   ],
   "source": [
    "# A. What are the columns and index: do they suggest any relationship to other tables?\n",
    "print(f'{d_f_products.index.name}')\n",
    "d_f_products.info()\n",
    "#product_id link"
   ]
  },
  {
   "cell_type": "code",
   "execution_count": 35,
   "metadata": {},
   "outputs": [
    {
     "data": {
      "text/plain": [
       "(10292, 5)"
      ]
     },
     "execution_count": 35,
     "metadata": {},
     "output_type": "execute_result"
    }
   ],
   "source": [
    "# B. How many rows of data are there?\n",
    "d_f_products.shape"
   ]
  },
  {
   "cell_type": "code",
   "execution_count": 36,
   "metadata": {},
   "outputs": [
    {
     "name": "stdout",
     "output_type": "stream",
     "text": [
      "<class 'pandas.core.frame.DataFrame'>\n",
      "RangeIndex: 10292 entries, 0 to 10291\n",
      "Data columns (total 5 columns):\n",
      " #   Column                    Non-Null Count  Dtype  \n",
      "---  ------                    --------------  -----  \n",
      " 0   product_id                10292 non-null  object \n",
      " 1   category                  10292 non-null  object \n",
      " 2   sub_category              10292 non-null  object \n",
      " 3   product_name              10292 non-null  object \n",
      " 4   product_cost_to_consumer  10292 non-null  float64\n",
      "dtypes: float64(1), object(4)\n",
      "memory usage: 402.2+ KB\n"
     ]
    }
   ],
   "source": [
    "# C. What are the types of each column?\n",
    "d_f_products.info()"
   ]
  },
  {
   "cell_type": "code",
   "execution_count": null,
   "metadata": {},
   "outputs": [],
   "source": [
    "# 8.3 Boolean Filtering\n",
    "# Let's return to the orders dataset for the rest of the challenges\n",
    "# Use boolean filtering and DataFrame/DataSeries methods to solve the following challanges:"
   ]
  },
  {
   "cell_type": "code",
   "execution_count": 12,
   "metadata": {},
   "outputs": [
    {
     "name": "stdout",
     "output_type": "stream",
     "text": [
      "count    335758.000000\n",
      "mean          1.051705\n",
      "std          28.973358\n",
      "min       -2750.280000\n",
      "25%           0.100000\n",
      "50%           0.190000\n",
      "75%           0.290000\n",
      "max        2799.980000\n",
      "Name: profit, dtype: float64\n"
     ]
    }
   ],
   "source": [
    "# A. What is the mean profit of orders where the ship_mode is \"Second Class\"\n",
    "prof = data_frame[data_frame.shipping_mode =='Second Class']['profit'].describe()\n",
    "print(f'{prof}')\n",
    "#data_frame.profit.describe()"
   ]
  },
  {
   "cell_type": "code",
   "execution_count": 13,
   "metadata": {},
   "outputs": [
    {
     "data": {
      "text/plain": [
       "OFF-ST-10001963     4\n",
       "OFF-ST-10001426     3\n",
       "OFF-AR-10003875     3\n",
       "TEC-AC-10001840     3\n",
       "OFF-LA-10002295     2\n",
       "                   ..\n",
       "FUR-BO-10000676     1\n",
       "OFF-LA-10004430     1\n",
       "OFF-LA-10004062     1\n",
       "TEC-MA-10003704     1\n",
       "OFF-GRE-10003899    1\n",
       "Name: product_id, Length: 308, dtype: int64"
      ]
     },
     "execution_count": 13,
     "metadata": {},
     "output_type": "execute_result"
    }
   ],
   "source": [
    "# B. Which product is the most commonly ordered on 2017-06-08 \n",
    "data_frame[data_frame.order_date == '2017-06-08']['product_id'].value_counts()"
   ]
  },
  {
   "cell_type": "code",
   "execution_count": null,
   "metadata": {},
   "outputs": [],
   "source": [
    "# 8.4 Sorting and Filtering"
   ]
  },
  {
   "cell_type": "code",
   "execution_count": 30,
   "metadata": {},
   "outputs": [
    {
     "data": {
      "text/html": [
       "<div>\n",
       "<style scoped>\n",
       "    .dataframe tbody tr th:only-of-type {\n",
       "        vertical-align: middle;\n",
       "    }\n",
       "\n",
       "    .dataframe tbody tr th {\n",
       "        vertical-align: top;\n",
       "    }\n",
       "\n",
       "    .dataframe thead th {\n",
       "        text-align: right;\n",
       "    }\n",
       "</style>\n",
       "<table border=\"1\" class=\"dataframe\">\n",
       "  <thead>\n",
       "    <tr style=\"text-align: right;\">\n",
       "      <th></th>\n",
       "      <th>order_id</th>\n",
       "      <th>order_date</th>\n",
       "      <th>ship_date</th>\n",
       "      <th>shipping_mode</th>\n",
       "      <th>customer_id</th>\n",
       "      <th>product_id</th>\n",
       "      <th>sales</th>\n",
       "      <th>quantity</th>\n",
       "      <th>discount</th>\n",
       "      <th>profit</th>\n",
       "      <th>postal_code</th>\n",
       "      <th>region_id</th>\n",
       "    </tr>\n",
       "  </thead>\n",
       "  <tbody>\n",
       "    <tr>\n",
       "      <th>608</th>\n",
       "      <td>AG-2017-2220</td>\n",
       "      <td>2017-12-26</td>\n",
       "      <td>2017-12-30</td>\n",
       "      <td>Standard Class</td>\n",
       "      <td>PO-8865</td>\n",
       "      <td>TEC-HEW-10002304</td>\n",
       "      <td>1908.72</td>\n",
       "      <td>6</td>\n",
       "      <td>0.2</td>\n",
       "      <td>190.80</td>\n",
       "      <td>NaN</td>\n",
       "      <td>12699.0</td>\n",
       "    </tr>\n",
       "    <tr>\n",
       "      <th>28981</th>\n",
       "      <td>CA-2017-2910</td>\n",
       "      <td>2017-06-04</td>\n",
       "      <td>2017-06-08</td>\n",
       "      <td>Standard Class</td>\n",
       "      <td>PO-8865</td>\n",
       "      <td>OFF-BIN-10004729</td>\n",
       "      <td>198.00</td>\n",
       "      <td>4</td>\n",
       "      <td>0.1</td>\n",
       "      <td>65.28</td>\n",
       "      <td>NaN</td>\n",
       "      <td>2570.0</td>\n",
       "    </tr>\n",
       "    <tr>\n",
       "      <th>3946</th>\n",
       "      <td>AG-2019-6470</td>\n",
       "      <td>2019-01-13</td>\n",
       "      <td>2019-01-15</td>\n",
       "      <td>First Class</td>\n",
       "      <td>PO-8865</td>\n",
       "      <td>TEC-SHA-10004874</td>\n",
       "      <td>293.85</td>\n",
       "      <td>1</td>\n",
       "      <td>0.2</td>\n",
       "      <td>61.68</td>\n",
       "      <td>NaN</td>\n",
       "      <td>45585.0</td>\n",
       "    </tr>\n",
       "  </tbody>\n",
       "</table>\n",
       "</div>"
      ],
      "text/plain": [
       "           order_id  order_date   ship_date   shipping_mode customer_id  \\\n",
       "608    AG-2017-2220  2017-12-26  2017-12-30  Standard Class     PO-8865   \n",
       "28981  CA-2017-2910  2017-06-04  2017-06-08  Standard Class     PO-8865   \n",
       "3946   AG-2019-6470  2019-01-13  2019-01-15     First Class     PO-8865   \n",
       "\n",
       "             product_id    sales  quantity  discount  profit  postal_code  \\\n",
       "608    TEC-HEW-10002304  1908.72         6       0.2  190.80          NaN   \n",
       "28981  OFF-BIN-10004729   198.00         4       0.1   65.28          NaN   \n",
       "3946   TEC-SHA-10004874   293.85         1       0.2   61.68          NaN   \n",
       "\n",
       "       region_id  \n",
       "608      12699.0  \n",
       "28981     2570.0  \n",
       "3946     45585.0  "
      ]
     },
     "execution_count": 30,
     "metadata": {},
     "output_type": "execute_result"
    }
   ],
   "source": [
    "# A. What are the three most profitable orders purchased by customer PO-8865?\n",
    "data_frame[data_frame.customer_id == 'PO-8865'].sort_values(by=['profit'], ascending=False).head(3)\n",
    "\n"
   ]
  },
  {
   "cell_type": "code",
   "execution_count": 33,
   "metadata": {},
   "outputs": [
    {
     "data": {
      "text/html": [
       "<div>\n",
       "<style scoped>\n",
       "    .dataframe tbody tr th:only-of-type {\n",
       "        vertical-align: middle;\n",
       "    }\n",
       "\n",
       "    .dataframe tbody tr th {\n",
       "        vertical-align: top;\n",
       "    }\n",
       "\n",
       "    .dataframe thead th {\n",
       "        text-align: right;\n",
       "    }\n",
       "</style>\n",
       "<table border=\"1\" class=\"dataframe\">\n",
       "  <thead>\n",
       "    <tr style=\"text-align: right;\">\n",
       "      <th></th>\n",
       "      <th>order_id</th>\n",
       "      <th>order_date</th>\n",
       "      <th>ship_date</th>\n",
       "      <th>shipping_mode</th>\n",
       "      <th>customer_id</th>\n",
       "      <th>product_id</th>\n",
       "      <th>sales</th>\n",
       "      <th>quantity</th>\n",
       "      <th>discount</th>\n",
       "      <th>profit</th>\n",
       "      <th>postal_code</th>\n",
       "      <th>region_id</th>\n",
       "    </tr>\n",
       "  </thead>\n",
       "  <tbody>\n",
       "    <tr>\n",
       "      <th>581</th>\n",
       "      <td>AG-2017-1949725</td>\n",
       "      <td>2017-12-16</td>\n",
       "      <td>2017-12-18</td>\n",
       "      <td>Standard Class</td>\n",
       "      <td>PO-8865</td>\n",
       "      <td>TEC-HEW-10002304</td>\n",
       "      <td>1908.72</td>\n",
       "      <td>6</td>\n",
       "      <td>0.22</td>\n",
       "      <td>0.20</td>\n",
       "      <td>NaN</td>\n",
       "      <td>16676.0</td>\n",
       "    </tr>\n",
       "    <tr>\n",
       "      <th>889</th>\n",
       "      <td>AG-2017-4980033</td>\n",
       "      <td>2017-12-07</td>\n",
       "      <td>2017-12-12</td>\n",
       "      <td>Standard Class</td>\n",
       "      <td>PO-8865</td>\n",
       "      <td>TEC-HEW-10002304</td>\n",
       "      <td>1908.72</td>\n",
       "      <td>6</td>\n",
       "      <td>0.22</td>\n",
       "      <td>0.20</td>\n",
       "      <td>NaN</td>\n",
       "      <td>7530.0</td>\n",
       "    </tr>\n",
       "    <tr>\n",
       "      <th>608</th>\n",
       "      <td>AG-2017-2220</td>\n",
       "      <td>2017-12-26</td>\n",
       "      <td>2017-12-30</td>\n",
       "      <td>Standard Class</td>\n",
       "      <td>PO-8865</td>\n",
       "      <td>TEC-HEW-10002304</td>\n",
       "      <td>1908.72</td>\n",
       "      <td>6</td>\n",
       "      <td>0.20</td>\n",
       "      <td>190.80</td>\n",
       "      <td>NaN</td>\n",
       "      <td>12699.0</td>\n",
       "    </tr>\n",
       "    <tr>\n",
       "      <th>1671</th>\n",
       "      <td>AG-2018-4980110</td>\n",
       "      <td>2018-01-05</td>\n",
       "      <td>2018-01-08</td>\n",
       "      <td>Standard Class</td>\n",
       "      <td>PO-8865</td>\n",
       "      <td>TEC-HEW-10002304</td>\n",
       "      <td>1908.72</td>\n",
       "      <td>6</td>\n",
       "      <td>0.23</td>\n",
       "      <td>0.19</td>\n",
       "      <td>NaN</td>\n",
       "      <td>783.0</td>\n",
       "    </tr>\n",
       "    <tr>\n",
       "      <th>1497</th>\n",
       "      <td>AG-2018-3851058</td>\n",
       "      <td>2018-01-15</td>\n",
       "      <td>2018-01-18</td>\n",
       "      <td>Standard Class</td>\n",
       "      <td>PO-8865</td>\n",
       "      <td>TEC-HEW-10002304</td>\n",
       "      <td>1908.72</td>\n",
       "      <td>6</td>\n",
       "      <td>0.23</td>\n",
       "      <td>0.19</td>\n",
       "      <td>NaN</td>\n",
       "      <td>4792.0</td>\n",
       "    </tr>\n",
       "  </tbody>\n",
       "</table>\n",
       "</div>"
      ],
      "text/plain": [
       "             order_id  order_date   ship_date   shipping_mode customer_id  \\\n",
       "581   AG-2017-1949725  2017-12-16  2017-12-18  Standard Class     PO-8865   \n",
       "889   AG-2017-4980033  2017-12-07  2017-12-12  Standard Class     PO-8865   \n",
       "608      AG-2017-2220  2017-12-26  2017-12-30  Standard Class     PO-8865   \n",
       "1671  AG-2018-4980110  2018-01-05  2018-01-08  Standard Class     PO-8865   \n",
       "1497  AG-2018-3851058  2018-01-15  2018-01-18  Standard Class     PO-8865   \n",
       "\n",
       "            product_id    sales  quantity  discount  profit  postal_code  \\\n",
       "581   TEC-HEW-10002304  1908.72         6      0.22    0.20          NaN   \n",
       "889   TEC-HEW-10002304  1908.72         6      0.22    0.20          NaN   \n",
       "608   TEC-HEW-10002304  1908.72         6      0.20  190.80          NaN   \n",
       "1671  TEC-HEW-10002304  1908.72         6      0.23    0.19          NaN   \n",
       "1497  TEC-HEW-10002304  1908.72         6      0.23    0.19          NaN   \n",
       "\n",
       "      region_id  \n",
       "581     16676.0  \n",
       "889      7530.0  \n",
       "608     12699.0  \n",
       "1671      783.0  \n",
       "1497     4792.0  "
      ]
     },
     "execution_count": 33,
     "metadata": {},
     "output_type": "execute_result"
    }
   ],
   "source": [
    "# B. What are the five orders of product_id TEC-HEW-10002304 with the highest quantity?\n",
    "data_frame[data_frame.product_id == 'TEC-HEW-10002304'].sort_values(by=['quantity'], ascending=False).head(5)\n",
    "\n",
    "\n"
   ]
  },
  {
   "cell_type": "markdown",
   "metadata": {},
   "source": [
    "## Recap\n",
    "\n",
    "We covered a lot of ground! It's ok if this takes a while to gel.\n",
    "\n",
    "```python\n",
    "\n",
    "# basic DataFrame operations\n",
    "df.head()\n",
    "df.tail()\n",
    "df.shape\n",
    "df.columns\n",
    "df.index\n",
    "\n",
    "# selecting columns\n",
    "df.column_name\n",
    "df['column_name']\n",
    "\n",
    "# renaming columns\n",
    "df.rename({'old_name':'new_name'}, inplace=True)\n",
    "df.columns = ['new_column_a', 'new_column_b']\n",
    "\n",
    "# notable columns operations\n",
    "df.describe() # five number summary\n",
    "df['col1'].nunique() # number of unique values\n",
    "df['col1'].value_counts() # number of occurrences of each value in column\n",
    "\n",
    "# filtering\n",
    "df[ df['col1'] < 50 ] # filter column to be less than 50\n",
    "df[ (df['col1'] == value1) & (df['col2'] > value2) ] # filter column where col1 is equal to value1 AND col2 is greater to value 2\n",
    "\n",
    "# sorting\n",
    "df.sort_values(by='column_name', ascending = False) # sort biggest to smallest\n",
    "\n",
    "```\n",
    "\n",
    "\n",
    "It's common to refer back to your own code *all the time.* Don't hesistate to reference this guide! 🐼\n",
    "\n",
    "\n"
   ]
  },
  {
   "cell_type": "code",
   "execution_count": null,
   "metadata": {},
   "outputs": [],
   "source": []
  }
 ],
 "metadata": {
  "kernelspec": {
   "display_name": "Python 3 (ipykernel)",
   "language": "python",
   "name": "python3"
  },
  "language_info": {
   "codemirror_mode": {
    "name": "ipython",
    "version": 3
   },
   "file_extension": ".py",
   "mimetype": "text/x-python",
   "name": "python",
   "nbconvert_exporter": "python",
   "pygments_lexer": "ipython3",
   "version": "3.9.12"
  }
 },
 "nbformat": 4,
 "nbformat_minor": 4
}
