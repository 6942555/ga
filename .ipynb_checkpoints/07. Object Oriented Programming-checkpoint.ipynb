{
 "cells": [
  {
   "cell_type": "markdown",
   "metadata": {
    "id": "eQeuzLFD87Px"
   },
   "source": [
    "#### First Class"
   ]
  },
  {
   "cell_type": "code",
   "execution_count": 50,
   "metadata": {
    "id": "3lqVaS8l87P2"
   },
   "outputs": [],
   "source": [
    "# A. Create a class for musical artists called Musician.\n",
    "# Musicians should have name and genre properties set by parameters in the init method.\n",
    "# Musicians should also have an albums_sold property that always starts at 0.\n",
    "# If the user doesn't provide a genre, the default value should be \"Pop\"\n",
    "\n",
    "class Muso:\n",
    "    def __init__(self,name,genre='pop'):\n",
    "        self.name = name\n",
    "        self.genre = genre\n",
    "        self.albums_sold =0\n",
    "    \n",
    "    def sell_album(): #woo\n",
    "        self.albums_sold +=1"
   ]
  },
  {
   "cell_type": "code",
   "execution_count": 52,
   "metadata": {
    "id": "qqmyXBIS87P4"
   },
   "outputs": [
    {
     "data": {
      "text/plain": [
       "'the rocks'"
      ]
     },
     "execution_count": 52,
     "metadata": {},
     "output_type": "execute_result"
    }
   ],
   "source": [
    "# B. Instantiate, or create, three instances of the Musician class with different names and genres\n",
    "\n",
    "band1 = Muso(\"lamp\", \"rock\")\n",
    "band2 = Muso(\"desk\")\n",
    "band3 = Muso(\"the rocks\", \"pop-punk\")\n",
    "band3.name\n",
    "\n"
   ]
  },
  {
   "cell_type": "markdown",
   "metadata": {
    "id": "R1onxp4W87P5"
   },
   "source": [
    "#### House of Cards"
   ]
  },
  {
   "cell_type": "code",
   "execution_count": 45,
   "metadata": {
    "id": "5SRApIZU87P7"
   },
   "outputs": [],
   "source": [
    "# A. Create a Card class with two properties:\n",
    "# Suit (Hearts, Clubs, Spades, or Diamonds)\n",
    "# Face (2 through 10, Jack, Queen, King, or Ace)\n",
    "class Card:\n",
    "    def __init__(self, suit, face):\n",
    "        self.suit = suit\n",
    "        #\n",
    "#         if face in range(2-11):\n",
    "#             self.face = str(x)\n",
    "#             self.value = x\n",
    "#         elif face >=11:\n",
    "#             self.value = 10\n",
    "#             match face:\n",
    "#                 case 11:\n",
    "#                     self.face = \"jack\"\n",
    "#                 case 12:\n",
    "#                     self.face = \"queen\"\n",
    "#                 case 13:\n",
    "#                     self.face = \"king\"\n",
    "#         else:\n",
    "#             self.face=\"ace\"\n",
    "#             self.value=\"1\"#or eleven, not actually implementing a game\n",
    "        \n",
    "        self.face = face\n",
    "    def show(self):\n",
    "        print(f'{self.suit} {self.face}')"
   ]
  },
  {
   "cell_type": "code",
   "execution_count": 46,
   "metadata": {
    "id": "Gswoj3SJ87P7"
   },
   "outputs": [],
   "source": [
    "# B. Then, fill up the cards list with cards containing all 52 combinations of the above properties.\n",
    "# Hint: You will want to create lists of the possible suits and faces so you can loop through them\n",
    "\n",
    "class Deck:\n",
    "    def __init__(self): #could assign numeric value for calc reasons\n",
    "        self.cards = []\n",
    "        faces = ['ace'] + [str(x) for x in range(2,11)] +['jack','queen','king']\n",
    "#         faces = [x for x in range(1,14)]\n",
    "        suits = [\"Hearts\", \"Clubs\", \"Spades\", \"Diamonds\"]\n",
    "        for suit in suits:\n",
    "            for face in faces:\n",
    "                c= Card(suit,face)\n",
    "                self.cards.append(c)\n",
    "    \n",
    "    def show_deck(self): #prints all cards\n",
    "        for card in self.cards:\n",
    "            card.show()\n",
    "    #method for showing indiv. cards\n",
    "    #\n",
    "        "
   ]
  },
  {
   "cell_type": "code",
   "execution_count": 48,
   "metadata": {},
   "outputs": [
    {
     "name": "stdout",
     "output_type": "stream",
     "text": [
      "Hearts ace\n",
      "Hearts 2\n",
      "Hearts 3\n",
      "Hearts 4\n",
      "Hearts 5\n",
      "Hearts 6\n",
      "Hearts 7\n",
      "Hearts 8\n",
      "Hearts 9\n",
      "Hearts 10\n",
      "Hearts jack\n",
      "Hearts queen\n",
      "Hearts king\n",
      "Clubs ace\n",
      "Clubs 2\n",
      "Clubs 3\n",
      "Clubs 4\n",
      "Clubs 5\n",
      "Clubs 6\n",
      "Clubs 7\n",
      "Clubs 8\n",
      "Clubs 9\n",
      "Clubs 10\n",
      "Clubs jack\n",
      "Clubs queen\n",
      "Clubs king\n",
      "Spades ace\n",
      "Spades 2\n",
      "Spades 3\n",
      "Spades 4\n",
      "Spades 5\n",
      "Spades 6\n",
      "Spades 7\n",
      "Spades 8\n",
      "Spades 9\n",
      "Spades 10\n",
      "Spades jack\n",
      "Spades queen\n",
      "Spades king\n",
      "Diamonds ace\n",
      "Diamonds 2\n",
      "Diamonds 3\n",
      "Diamonds 4\n",
      "Diamonds 5\n",
      "Diamonds 6\n",
      "Diamonds 7\n",
      "Diamonds 8\n",
      "Diamonds 9\n",
      "Diamonds 10\n",
      "Diamonds jack\n",
      "Diamonds queen\n",
      "Diamonds king\n"
     ]
    }
   ],
   "source": [
    "carddeck = Deck()\n",
    "carddeck.show_deck()"
   ]
  },
  {
   "cell_type": "markdown",
   "metadata": {
    "id": "JvCa_s_P87P8"
   },
   "source": [
    "#### Getting the Band Together\n",
    "Create a Band class. A Band should have the following properties and methods:  \n",
    "name: String  \n",
    "members: a list of Strings, defaults to an empty list  \n",
    "introduce_lineup(): a method that prints all of the strings in members  \n",
    "add_member(new_member): a method that adds a new member to the members then invokes introduce_lineup  \n",
    "kick_out(old_member): a method that removes the given member from the members list. If the members list is empty, add a disbanded property equal to True. Otherwise, invoke introduce_lineup\n"
   ]
  },
  {
   "cell_type": "code",
   "execution_count": 69,
   "metadata": {
    "id": "UkeGttuY87P8"
   },
   "outputs": [],
   "source": [
    "class Band:\n",
    "    def __init__(self,name,members=[]):\n",
    "        self.name = name\n",
    "        self.members = members\n",
    "        self.disbanded = len(self.members) == 0\n",
    "        \n",
    "    def introduce_lineup(self):\n",
    "        for member in self.members:\n",
    "            print(f'{member}', end =' ')\n",
    "        print(\"\")\n",
    "    def add_member(self,new_member):   \n",
    "        self.members.append(new_member)\n",
    "        self.disbanded = len(self.members) == 0\n",
    "        self.introduce_lineup()\n",
    "                  \n",
    "    def kick_out(self,old_member):\n",
    "        if old_member in self.members:\n",
    "            self.members.remove(old_member)\n",
    "        self.disbanded = len(self.members) == 0\n",
    "        if self.disbanded:\n",
    "            print(\"Band's dead\")\n",
    "        else:\n",
    "             self.introduce_lineup()\n",
    "                  "
   ]
  },
  {
   "cell_type": "code",
   "execution_count": 72,
   "metadata": {},
   "outputs": [
    {
     "name": "stdout",
     "output_type": "stream",
     "text": [
      "rutile chalcedony lumpy \n",
      "rutile chalcedony \n",
      "rutile chalcedony wood \n",
      "rutile chalcedony \n",
      "chalcedony \n",
      "Band's dead\n"
     ]
    }
   ],
   "source": [
    "rocks = Band(\"the rocks\",['rutile','chalcedony','lumpy'])\n",
    "rocks.introduce_lineup()\n",
    "rocks.kick_out('lumpy')\n",
    "rocks.add_member('wood')\n",
    "rocks.kick_out('wood')\n",
    "rocks.kick_out('rutile')\n",
    "rocks.kick_out('chalcedony')"
   ]
  },
  {
   "cell_type": "markdown",
   "metadata": {
    "id": "nbTN7HAI87P-"
   },
   "source": [
    "#### Bands part 2\n",
    "Create the following subclasses that extend the Band class functionality"
   ]
  },
  {
   "cell_type": "code",
   "execution_count": 79,
   "metadata": {
    "id": "1pKgyW6E87P-"
   },
   "outputs": [],
   "source": [
    "# A. Punk bands have a street_cred property set to True and earnings property set to 0\n",
    "# sell_out(amount): a method that changes street_cred to False and earnings increase by amount\n",
    "# destroy_hotel_room(): a method that changes street_cred to True and earnings decrease by 5000\n",
    "\n",
    "class Punk(Band):\n",
    "    def __init__(self):\n",
    "        self.street_cred = True\n",
    "        self.earnings = 0\n",
    "    def sell_out(self,amount):\n",
    "        #if street cred false then return?\n",
    "        self.street_cred = False\n",
    "        self.earnings += amount #error catching, regex? eh\n",
    "    def destroy_hotel_room(self):\n",
    "        self.street_cred = True\n",
    "        self.earnings -=5000\n",
    "    \n"
   ]
  },
  {
   "cell_type": "code",
   "execution_count": 87,
   "metadata": {
    "id": "B8WI-WDl87P-"
   },
   "outputs": [],
   "source": [
    "# B. Jazz bands have a songbook property set to an empty list\n",
    "# add_song(song_title): a method that adds the given song_title to the songbook\n",
    "# solo(): a method that prints a message saying \"____ is cooking!\" \n",
    "# fill in the blank with the first string in the members list, then move that member to the end of the list\n",
    "\n",
    "class Jazz(Band):\n",
    "    def __init__(self,name,members=[]):\n",
    "        self.songbook = []\n",
    "        self.name = name\n",
    "        self.members = members\n",
    "    def add_song(self,song_title):\n",
    "        self.songbook.append(song_title)\n",
    "    def solo(self):\n",
    "        member = self.members[0]\n",
    "        self.members.pop(0)\n",
    "        print(f'{member} is cooking!')\n",
    "        self.members.append(member)\n",
    "\n",
    "\n"
   ]
  },
  {
   "cell_type": "code",
   "execution_count": 88,
   "metadata": {},
   "outputs": [
    {
     "name": "stdout",
     "output_type": "stream",
     "text": [
      "5500\n",
      "joshua redman is cooking!\n",
      "['put it in your pocket']\n"
     ]
    }
   ],
   "source": [
    "saints = Punk()\n",
    "saints.sell_out(5500)\n",
    "print(f'{saints.earnings}')\n",
    "redman = Jazz(\"joshua redman's elastic band\",[\"joshua redman\", 'nicholas payton', 'and more'])\n",
    "redman.solo()\n",
    "redman.add_song(\"put it in your pocket\")\n",
    "print(f'{redman.songbook}')"
   ]
  },
  {
   "cell_type": "markdown",
   "metadata": {
    "id": "pDSAJeBV87P_"
   },
   "source": [
    "#### RPG Characters\n",
    "Use inheritance to set up a combat simulation for a Role-Playing Game. The Character class will set up default properties for every character in the game, while the more specific classes will create more interesting, playable characters."
   ]
  },
  {
   "cell_type": "code",
   "execution_count": 110,
   "metadata": {
    "id": "P5KVFF2Z87QA"
   },
   "outputs": [],
   "source": [
    "# A. Create a Character class with the following properties and methods:\n",
    "# health: default 100, damage: default 10, items: default empty list\n",
    "# attack(target): lowers the target's health property by the character's damage property\n",
    "# display_stats(): prints a message including the characters health, damage, and items\n",
    "class Character():\n",
    "    def __init__(self,health = 100,damage = 10, items = []):\n",
    "        self.health = health\n",
    "        self.damage = damage\n",
    "        self.items = items\n",
    "    def attack(self,tar):\n",
    "        tar.health -=self.damage\n",
    "    def display_stats(self):\n",
    "        print(f'Current hp:{self.health} Current dmg:{self.damage} Current items:{self.items}')"
   ]
  },
  {
   "cell_type": "code",
   "execution_count": 111,
   "metadata": {
    "id": "CNFyn2fR87QA"
   },
   "outputs": [],
   "source": [
    "# B. The Fighter class should inherit from the character class with the following additions:\n",
    "# health is always 200, damage is always 15, items includes \"magic sword\"\n",
    "# a new property named berserker that defaults to 2\n",
    "# beast_mode(target): use the attack() method on the target X times, where X is the berserker amount. \n",
    "# The Fighter loses 5 health for each attack.\n",
    "\n",
    "class Fighter(Character):\n",
    "    def __init__(self, items = ['magic sword'], berserker=2):\n",
    "        self.health = 200\n",
    "        self.damage = 15\n",
    "        self.items = items\n",
    "        self.berserker = berserker\n",
    "    def beastmode(self,tar):\n",
    "        for x in range(self.berserker):\n",
    "            self.attack(tar)\n",
    "            self.health -=5"
   ]
  },
  {
   "cell_type": "code",
   "execution_count": 112,
   "metadata": {
    "id": "2DJf7Uw887QB"
   },
   "outputs": [],
   "source": [
    "# C. The Wizard class should inherit from the character class with the following additions:\n",
    "# health is 75, damage is 30, items includes \"health_potion\" and \"strength_potion\"\n",
    "# heal(target): if the items list contains \"health_potion\", remove one and increase target's health by 25\n",
    "# buff(target): if the items list contains \"strength_potion\", remove one and increase target's damage by 10\n",
    "\n",
    "class Wizard(Character):\n",
    "    def __init__(self, items = ['health_potion', 'strength_potion']):\n",
    "        self.health = 75\n",
    "        self.damage = 30\n",
    "        self.items = items\n",
    "    def heal(self,tar):\n",
    "        if 'health_potion' in self.items:\n",
    "            self.items.remove('health_potion')\n",
    "            tar.health +=25\n",
    "    def buff(self,tar):\n",
    "        if 'strength_potion' in self.items:\n",
    "            self.items.remove('strength_potion')\n",
    "            tar.damage +=10\n",
    "        \n",
    "\n"
   ]
  },
  {
   "cell_type": "code",
   "execution_count": 113,
   "metadata": {
    "id": "hNOp2C8B87QC"
   },
   "outputs": [
    {
     "name": "stdout",
     "output_type": "stream",
     "text": [
      "After 1 rounds of combat:\n",
      "The orc\n",
      "Current hp:70 Current dmg:5 Current items:[]\n",
      "alfhildr\n",
      "Current hp:185 Current dmg:25 Current items:['magic sword']\n",
      "gandalf\n",
      "Current hp:75 Current dmg:30 Current items:['health_potion']\n",
      "After 2 rounds of combat:\n",
      "The orc\n",
      "Current hp:20 Current dmg:5 Current items:[]\n",
      "alfhildr\n",
      "Current hp:195 Current dmg:25 Current items:['magic sword']\n",
      "gandalf\n",
      "Current hp:75 Current dmg:30 Current items:[]\n",
      "After 3 rounds of combat:\n",
      "The orc\n",
      "Current hp:-60 Current dmg:5 Current items:[]\n",
      "alfhildr\n",
      "Current hp:180 Current dmg:25 Current items:['magic sword']\n",
      "gandalf\n",
      "Current hp:75 Current dmg:30 Current items:[]\n"
     ]
    }
   ],
   "source": [
    "# Test the classes using this combat simulation below. It should run without errors.\n",
    "alfhildr = Fighter()\n",
    "gandalf = Wizard()\n",
    "orc = Character(100, 5)\n",
    "rounds_of_combat = 1\n",
    "\n",
    "while(orc.health > 0 and alfhildr.health > 0):\n",
    "    orc.attack(alfhildr)\n",
    "    alfhildr.beastmode(orc)\n",
    "    if \"strength_potion\" in gandalf.items:\n",
    "        gandalf.buff(alfhildr)\n",
    "    elif \"health_potion\" in gandalf.items:\n",
    "        gandalf.heal(alfhildr)\n",
    "    else:\n",
    "        gandalf.attack(orc)\n",
    "    print(f\"After {rounds_of_combat} rounds of combat:\")\n",
    "    print(f\"The orc\")\n",
    "    orc.display_stats()\n",
    "    print(f\"alfhildr\")\n",
    "    alfhildr.display_stats()\n",
    "    print(f\"gandalf\")\n",
    "    gandalf.display_stats()\n",
    "    rounds_of_combat += 1"
   ]
  },
  {
   "cell_type": "code",
   "execution_count": null,
   "metadata": {
    "id": "ScYrptn287QC"
   },
   "outputs": [],
   "source": [
    "# The output should look like the following log:\n",
    "# After 1 rounds of combat:\n",
    "# The orc\n",
    "# Health: 70 Damage: 5 Items: []\n",
    "# alfhildr\n",
    "# Health: 185 Damage: 25 Items: ['magic sword']\n",
    "# gandalf\n",
    "# Health: 75 Damage: 30 Items: ['health_potion']\n",
    "# After 2 rounds of combat:\n",
    "# The orc\n",
    "# Health: 20 Damage: 5 Items: []\n",
    "# alfhildr\n",
    "# Health: 195 Damage: 25 Items: ['magic sword']\n",
    "# gandalf\n",
    "# Health: 75 Damage: 30 Items: []\n",
    "# After 3 rounds of combat:\n",
    "# The orc\n",
    "# Health: -60 Damage: 5 Items: []\n",
    "# alfhildr\n",
    "# Health: 180 Damage: 25 Items: ['magic sword']\n",
    "# gandalf\n",
    "# Health: 75 Damage: 30 Items: []"
   ]
  }
 ],
 "metadata": {
  "colab": {
   "collapsed_sections": [],
   "name": "07. Object Oriented Programming.ipynb",
   "provenance": []
  },
  "kernelspec": {
   "display_name": "Python 3 (ipykernel)",
   "language": "python",
   "name": "python3"
  },
  "language_info": {
   "codemirror_mode": {
    "name": "ipython",
    "version": 3
   },
   "file_extension": ".py",
   "mimetype": "text/x-python",
   "name": "python",
   "nbconvert_exporter": "python",
   "pygments_lexer": "ipython3",
   "version": "3.9.12"
  }
 },
 "nbformat": 4,
 "nbformat_minor": 1
}
