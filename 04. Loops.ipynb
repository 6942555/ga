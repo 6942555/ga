{
 "cells": [
  {
   "cell_type": "code",
   "execution_count": null,
   "metadata": {},
   "outputs": [],
   "source": [
    "# 4.1 While Loops\n",
    "# Use while loops to solve the following challenges"
   ]
  },
  {
   "cell_type": "code",
   "execution_count": 3,
   "metadata": {},
   "outputs": [
    {
     "name": "stdout",
     "output_type": "stream",
     "text": [
      "100\n",
      "99\n",
      "98\n",
      "97\n",
      "96\n",
      "95\n",
      "94\n",
      "93\n",
      "92\n",
      "91\n",
      "90\n",
      "89\n",
      "88\n",
      "87\n",
      "86\n",
      "85\n",
      "84\n",
      "83\n",
      "82\n",
      "81\n",
      "80\n",
      "79\n",
      "78\n",
      "77\n",
      "76\n",
      "75\n",
      "74\n",
      "73\n",
      "72\n",
      "71\n",
      "70\n",
      "69\n",
      "68\n",
      "67\n",
      "66\n",
      "65\n",
      "64\n",
      "63\n",
      "62\n",
      "61\n",
      "60\n",
      "59\n",
      "58\n",
      "57\n",
      "56\n",
      "55\n",
      "54\n",
      "53\n",
      "52\n",
      "51\n",
      "50\n",
      "49\n",
      "48\n",
      "47\n",
      "46\n",
      "45\n",
      "44\n",
      "43\n",
      "42\n",
      "41\n",
      "40\n",
      "39\n",
      "38\n",
      "37\n",
      "36\n",
      "35\n",
      "34\n",
      "33\n",
      "32\n",
      "31\n",
      "30\n",
      "29\n",
      "28\n",
      "27\n",
      "26\n",
      "25\n",
      "24\n",
      "23\n",
      "22\n",
      "21\n",
      "20\n",
      "19\n",
      "18\n",
      "17\n",
      "16\n",
      "15\n",
      "14\n",
      "13\n",
      "12\n",
      "11\n",
      "10\n",
      "9\n",
      "8\n",
      "7\n",
      "6\n",
      "5\n",
      "4\n",
      "3\n",
      "2\n",
      "1\n",
      "0\n"
     ]
    }
   ],
   "source": [
    "# A. Count down from 100 to 0 with a loop, including a print statement\n",
    "x = 100\n",
    "while x >= 0:\n",
    "    print(x)\n",
    "    x -= 1"
   ]
  },
  {
   "cell_type": "code",
   "execution_count": 4,
   "metadata": {},
   "outputs": [
    {
     "name": "stdout",
     "output_type": "stream",
     "text": [
      "aaaaaaaaaaaaaaaaaaaaa\n"
     ]
    }
   ],
   "source": [
    "# B. Construct a string consisting of 20 \"a\" characters in a row\n",
    "x = 0\n",
    "a_string = \"\"\n",
    "while x <=20:\n",
    "    a_string += \"a\"\n",
    "    x+=1\n",
    "print(a_string)"
   ]
  },
  {
   "cell_type": "code",
   "execution_count": 7,
   "metadata": {},
   "outputs": [
    {
     "name": "stdout",
     "output_type": "stream",
     "text": [
      "950\n"
     ]
    }
   ],
   "source": [
    "# C. Bring down the price variable by increments of 10 until it is lower than the acceptable_price\n",
    "price = 1000\n",
    "acceptable_price = 954\n",
    "while price > acceptable_price:\n",
    "    price-=10\n",
    "print(price)"
   ]
  },
  {
   "cell_type": "code",
   "execution_count": 16,
   "metadata": {},
   "outputs": [
    {
     "name": "stdout",
     "output_type": "stream",
     "text": [
      "['bike', 'generator', 'tools', 'car']\n"
     ]
    }
   ],
   "source": [
    "# D. Spring cleaning: remove all instances of \"mess\" from the garage_contents list\n",
    "#    Hint: Use the in operator to check if \"mess\" is still in the list, and .remove() to get rid of it\n",
    "garage = [\"bike\", \"mess\", \"generator\", \"mess\", \"mess\", \"tools\", \"car\", \"mess\"]\n",
    "\n",
    "var = \"mess\"\n",
    "while var in garage:\n",
    "    if var == \"mess\":\n",
    "        garage.remove(var)\n",
    "    else:\n",
    "      print(\"cle\")\n",
    "print(garage)\n"
   ]
  },
  {
   "cell_type": "code",
   "execution_count": null,
   "metadata": {},
   "outputs": [],
   "source": [
    "# 4.2 For Loops\n",
    "# Use for loops to solve the following challenges"
   ]
  },
  {
   "cell_type": "code",
   "execution_count": 17,
   "metadata": {},
   "outputs": [
    {
     "name": "stdout",
     "output_type": "stream",
     "text": [
      "2\n",
      "3\n",
      "5\n",
      "8\n"
     ]
    }
   ],
   "source": [
    "# A. Print through each number in the numbers list\n",
    "numbers = [2,3,5,8]\n",
    "for number in numbers:\n",
    "    print(number)"
   ]
  },
  {
   "cell_type": "code",
   "execution_count": 19,
   "metadata": {},
   "outputs": [
    {
     "name": "stdout",
     "output_type": "stream",
     "text": [
      "2\n",
      "5\n",
      "10\n",
      "18\n"
     ]
    }
   ],
   "source": [
    "# B. Add each of the numbers to the sum_total variable.\n",
    "sum_total = 0\n",
    "for number in numbers:\n",
    "    sum_total+=number\n",
    "    print(sum_total)"
   ]
  },
  {
   "cell_type": "code",
   "execution_count": 21,
   "metadata": {},
   "outputs": [
    {
     "name": "stdout",
     "output_type": "stream",
     "text": [
      "2 even\n",
      "8 even\n"
     ]
    }
   ],
   "source": [
    "# C. Print the message \"even\" for each number that divides evenly by 2\n",
    "#    Hint: The modulus symbol, %, gives you the remainder when dividing two numbers\n",
    "for number in numbers:\n",
    "    if number%2 ==0:\n",
    "        print(f'{number} even')"
   ]
  },
  {
   "cell_type": "code",
   "execution_count": 22,
   "metadata": {},
   "outputs": [
    {
     "name": "stdout",
     "output_type": "stream",
     "text": [
      "2\n"
     ]
    }
   ],
   "source": [
    "# D. Count how many even numbers there are by adding 1 to count for each even number\n",
    "even_count = 0\n",
    "for number in numbers:\n",
    "    if number%2 ==0:\n",
    "        even_count+=1\n",
    "print(even_count)"
   ]
  },
  {
   "cell_type": "code",
   "execution_count": null,
   "metadata": {},
   "outputs": [],
   "source": [
    "# 4.3 List Comprehension\n",
    "# Use list comprehension to generate new lists for these challenges"
   ]
  },
  {
   "cell_type": "code",
   "execution_count": 9,
   "metadata": {},
   "outputs": [
    {
     "name": "stdout",
     "output_type": "stream",
     "text": [
      "jump\n",
      "['simon says jump2', 'simon says duck2', 'simon says touch your toes2']\n"
     ]
    }
   ],
   "source": [
    "# A. Add \"simon says \" to all strings in this list\n",
    "commands = [\"jump\", \"duck\", \"touch your toes\"]\n",
    "simon_sez = \"simon says \"\n",
    "# for command in commands:\n",
    "#     command.append(simon_sez +command)\n",
    "\n",
    "print(command)\n",
    "\n",
    "s_command2 = [ simon_sez +command+\"2\" for command in commands ]\n",
    "print( s_command2)"
   ]
  },
  {
   "cell_type": "code",
   "execution_count": 8,
   "metadata": {},
   "outputs": [
    {
     "name": "stdout",
     "output_type": "stream",
     "text": [
      "[575.0, 143.75]\n"
     ]
    }
   ],
   "source": [
    "# B. Add 15% to each number above 100, and don't include other numbers\n",
    "prices = [75, 500, 125, 20, 43]\n",
    "hi_prices = [(price+(price*.15)) for price in prices if price >= 100]\n",
    "print(hi_prices)"
   ]
  },
  {
   "cell_type": "code",
   "execution_count": null,
   "metadata": {},
   "outputs": [],
   "source": [
    "# 4.4 Hold on to Your Loops\n",
    "# Use any variety of loop for the following challenges"
   ]
  },
  {
   "cell_type": "code",
   "execution_count": null,
   "metadata": {},
   "outputs": [],
   "source": [
    "# A. As a superfan, you want to chant each of the player's names in the following format:\n",
    "#    1. Spell out their name with a separate print statement for each letter, followed by an exclamation point\n",
    "#    2. Then, print the message \"Goooo _______!\" by inserting the full name in the blank\n",
    "players = [\"Anoushka\", \"Becky\", \"Mehreen\"]\n",
    "\n",
    "def name_shout(players):\n",
    "  for player in players:\n",
    "    letter_shout = [letter + \"!\" for letter in player]\n",
    "    #print(letter_shout)\n",
    "    for letter in letter_shout:\n",
    "      print(letter)\n",
    "    print(f'GOOOOO {player}!')\n",
    "\n",
    "name_shout(players)"
   ]
  },
  {
   "cell_type": "code",
   "execution_count": 4,
   "metadata": {},
   "outputs": [
    {
     "name": "stdout",
     "output_type": "stream",
     "text": [
      "Don Manuel has the following flavors\n",
      "['cocoa', 'lime', 'cinnamon']\n",
      "cocoa\n",
      "lime\n",
      "cinnamon\n",
      "Gitwe Washed has the following flavors\n",
      "['grapefruit', 'hibiscus', 'honey']\n",
      "grapefruit\n",
      "hibiscus\n",
      "honey\n",
      "\n"
     ]
    }
   ],
   "source": [
    "# B. Customers want to know the flavors of each coffee. Use separate print statements in the following format:\n",
    "#    First, print \"_______ has the following flavors\" using the coffee name in the blank\n",
    "#    Then, print each flavor inside the coffee's flavor list\n",
    "coffee_blends = [\n",
    "    {\"name\": \"Don Manuel\", \"flavors\": [\"cocoa\", \"lime\", \"cinnamon\"]},\n",
    "    {\"name\": \"Gitwe Washed\", \"flavors\": [\"grapefruit\", \"hibiscus\", \"honey\"]}\n",
    "]\n",
    "for blend in coffee_blends:\n",
    "    print(f'{blend.get(\"name\")} has the following flavors')\n",
    "    print(f'{blend.get(\"flavors\")}')\n",
    "    for flavor in blend.get(\"flavors\"):\n",
    "        print(flavor)\n",
    "print()"
   ]
  },
  {
   "cell_type": "code",
   "execution_count": 13,
   "metadata": {
    "scrolled": true
   },
   "outputs": [
    {
     "name": "stdout",
     "output_type": "stream",
     "text": [
      "[{'item': 'mountain bike', 'price': 375}]\n",
      "375\n",
      "[{'item': 'mountain bike', 'price': 375}, {'item': 'tambourine', 'price': 50}]\n",
      "425\n",
      "[{'item': 'mountain bike', 'price': 375}, {'item': 'tambourine', 'price': 50}, {'item': 'massage chair', 'price': 700}]\n",
      "1125\n"
     ]
    }
   ],
   "source": [
    "# C. Shop till you've dropped 1000 dollars! Add each item to the purchases list until the total price exceeds 1000\n",
    "store = [\n",
    "    {\"item\": \"mountain bike\", \"price\": 375},\n",
    "    {\"item\": \"tambourine\", \"price\": 50},\n",
    "    {\"item\": \"massage chair\", \"price\": 700},\n",
    "    {\"item\": \"worlds best programmer mug\", \"price\": 10},\n",
    "    {\"item\": \"new computer\", \"price\": 1500}\n",
    "]\n",
    "\n",
    "purchases = []\n",
    "\n",
    "total_price = 0\n",
    "# purchases = [item for item in store if total_price <= 1000]\n",
    "# print(purchases)\n",
    "i = 0\n",
    "while total_price <= 1000:\n",
    "  total_price += store[i][\"price\"]\n",
    "#  for item in store:\n",
    "#    purchases.append(item)\n",
    "  purchases.append(store[i])\n",
    "  print(purchases)\n",
    "  i+=1\n",
    "  print(total_price)\n",
    "\n",
    "    "
   ]
  },
  {
   "cell_type": "code",
   "execution_count": null,
   "metadata": {},
   "outputs": [],
   "source": []
  }
 ],
 "metadata": {
  "kernelspec": {
   "display_name": "Python 3 (ipykernel)",
   "language": "python",
   "name": "python3"
  },
  "language_info": {
   "codemirror_mode": {
    "name": "ipython",
    "version": 3
   },
   "file_extension": ".py",
   "mimetype": "text/x-python",
   "name": "python",
   "nbconvert_exporter": "python",
   "pygments_lexer": "ipython3",
   "version": "3.9.12"
  }
 },
 "nbformat": 4,
 "nbformat_minor": 4
}
