{
 "cells": [
  {
   "cell_type": "code",
   "execution_count": null,
   "metadata": {
    "id": "cD-DLGexH9CC"
   },
   "outputs": [],
   "source": [
    "# 3.1 Price Conditions\n",
    "# Translate the following logical decisions into python conditionals"
   ]
  },
  {
   "cell_type": "code",
   "execution_count": 1,
   "metadata": {
    "id": "IJ1XixENH9CI"
   },
   "outputs": [
    {
     "name": "stdout",
     "output_type": "stream",
     "text": [
      "28.75\n"
     ]
    }
   ],
   "source": [
    "# A. If the price is under 10, add 10% tax to the price. \n",
    "# Otherwise, add 15% luxury tax instead.\n",
    "def calc_tax(price) -> int:\n",
    "    if price < 10:\n",
    "        tax_price = price +(price*.10)\n",
    "    else:\n",
    "        tax_price = price +(price*.15)\n",
    "    return tax_price\n",
    "\n",
    "price = 25\n",
    "print(calc_tax(price))\n",
    "    "
   ]
  },
  {
   "cell_type": "code",
   "execution_count": 8,
   "metadata": {
    "id": "3V0FrvElH9CJ"
   },
   "outputs": [
    {
     "name": "stdout",
     "output_type": "stream",
     "text": [
      "23.0\n"
     ]
    }
   ],
   "source": [
    "# B. If the customer's status is \"VIP\", lower the price by 20%\n",
    "customer = { \"name\": \"Lisa Su\", \"status\": \"VIP\" }\n",
    "if customer.get('status') == \"VIP\":\n",
    "    #discount_price = calc_tax(price) - (calc_tax(price) * .2)\n",
    "    tax_price = calc_tax(price)\n",
    "    final_price = tax_price - (tax_price *.2)\n",
    "else:\n",
    "    final_price = calc_tax(price)\n",
    "print(final_price)\n",
    "if 0 == True:\n",
    "    print(5)"
   ]
  },
  {
   "cell_type": "code",
   "execution_count": 15,
   "metadata": {
    "id": "037NEWn-H9CK"
   },
   "outputs": [
    {
     "name": "stdout",
     "output_type": "stream",
     "text": [
      "You get what you pay for. Get the most. Buy now for 25.\n",
      "For less than a cup of coffee, buy now for 4.\n",
      "Good value. Great products. Buy now for 15.\n"
     ]
    }
   ],
   "source": [
    "# C. Let's alter our advertising based on the price of the product, filling in the blank with the price\n",
    "#    i. If the price is less than 5, print \"For less than a cup of coffee, buy now for _____\"\n",
    "#.   ii. Otherwise, if the price is less than 20, print \"Good value. Great products. Buy now for _____\"\n",
    "#.   iii. Otherwise, print \"You get what you pay for. Get the most. Buy now for ______\"\n",
    "\n",
    "def advertise(price):\n",
    "    if price < 5:\n",
    "        print(f'For less than a cup of coffee, buy now for {price}.')\n",
    "    elif price < 20:\n",
    "        print(f'Good value. Great products. Buy now for {price}.')\n",
    "    else:\n",
    "        print(f'You get what you pay for. Get the most. Buy now for {price}.')\n",
    "test = 4\n",
    "advertise(price)\n",
    "advertise(test)\n",
    "advertise(15)"
   ]
  },
  {
   "cell_type": "code",
   "execution_count": 2,
   "metadata": {
    "id": "rDhZp71TH9CL"
   },
   "outputs": [
    {
     "name": "stdout",
     "output_type": "stream",
     "text": [
      "\"Your best value is the 90s Comedy DVD for only 2.99\"\n"
     ]
    }
   ],
   "source": [
    "# D. Given this list of products, use a conditional to figure out which has the lower price.\n",
    "#.   Print a message saying \"Your best value is the _____ for only ______\"\n",
    "#.   Fill in the blanks with the name and price of the cheaper item, respectively\n",
    "bargain_bin = [\n",
    "    {\"name\": \"90s Comedy DVD\", \"price\": 2.99},\n",
    "    {\"name\": \"80s Drama DVD\", \"price\": 3.99}\n",
    "]\n",
    "best_val2 = None\n",
    "for barg2 in bargain_bin:\n",
    "    \n",
    "    cur_val = barg2.get('price')\n",
    "    cur_name = barg2.get('name')\n",
    "    if best_val2 == None:\n",
    "      best_val2 = cur_val\n",
    "      best_name = cur_name\n",
    "    elif best_val2 >= cur_val:\n",
    "        best_val2 = cur_val\n",
    "        best_name = cur_name\n",
    "print(f'\"Your best value is the {best_name} for only {best_val2}\"')\n",
    "\n",
    "def get_price(barg):\n",
    "  return barg.get('price')\n",
    "\n",
    "#bargain_bin.sort(key=get_price)\n",
    "#print(f'{bargain_bin[0]}')\n",
    "\n",
    "#best_val = min(barg['price']for barg in bargain_bin)\n",
    "#print(best_val)"
   ]
  },
  {
   "cell_type": "code",
   "execution_count": null,
   "metadata": {
    "id": "v4_tdefuH9CM"
   },
   "outputs": [],
   "source": [
    "# 3.2 Complex Conditions"
   ]
  },
  {
   "cell_type": "code",
   "execution_count": 25,
   "metadata": {
    "id": "qWb0kDl8H9CM"
   },
   "outputs": [
    {
     "name": "stdout",
     "output_type": "stream",
     "text": [
      "\"b is not a vowel\"\n",
      "2\n"
     ]
    }
   ],
   "source": [
    "# A. Write a conditional that determines whether the letter is a vowel\n",
    "#.   Print a message stating \"___ is a vowel\" or \"___ is not a vowel\"\n",
    "letter = \"b\"\n",
    "if letter == \"a\" or letter == \"e\" or letter == \"i\" or letter == \"o\" or letter == \"u\":\n",
    "    print(f'\"{letter} is a vowel\"')\n",
    "else:\n",
    "    print(f'\"{letter} is not a vowel\"')\n",
    "    \n",
    "if letter.lower() in (\"a\", \"e\", \"i\", \"o\", \"u\"):\n",
    "    print(\"1\")\n",
    "elif letter.upper() in (\"A\", \"E\", \"I\", \"O\", \"U\"):\n",
    "    print(\"1\")\n",
    "else:\n",
    "    print(\"2\")"
   ]
  },
  {
   "cell_type": "code",
   "execution_count": 45,
   "metadata": {
    "id": "h4X4vlysH9CN"
   },
   "outputs": [
    {
     "name": "stdout",
     "output_type": "stream",
     "text": [
      "win\n",
      "win\n",
      "tie\n",
      "tie\n",
      "lose\n",
      "tie\n"
     ]
    }
   ],
   "source": [
    "# B. Determine whether the player beat the computer at rock, paper, scissors\n",
    "#    As a reminder, \"scissors\" beats \"paper\", \"rock\" beats \"scissors\", and \"rock\" beats \"scissors\"\n",
    "#.   Print a message saying whether the player won, lost, or tied\n",
    "player_choice = \"rock\"\n",
    "computer_choice = \"scissors\"\n",
    "\n",
    "def rock_paper_scissors(p_choice, c_choice):\n",
    "    if p_choice == \"rock\":\n",
    "        pi = 0\n",
    "    elif p_choice == \"paper\":\n",
    "        pi = 1\n",
    "    else:\n",
    "      pi = 2\n",
    "    \n",
    "    if c_choice == \"rock\":\n",
    "        ci = 0\n",
    "    elif c_choice == \"paper\":\n",
    "        ci = 1\n",
    "    else:\n",
    "      ci = 2\n",
    "    \n",
    "    if pi == ci:\n",
    "        print('tie')\n",
    "    elif pi == 1:\n",
    "        if pi>ci:\n",
    "            print(\"win\")\n",
    "        else:\n",
    "            print(\"lose\")\n",
    "    elif pi == 2:\n",
    "        if ci == 0:\n",
    "            print(\"win\")\n",
    "        else:\n",
    "            print(\"lose\")\n",
    "    elif pi == 0:\n",
    "        if ci == 2:\n",
    "            print(\"win\")\n",
    "        else:\n",
    "            print('lose')\n",
    "    else:\n",
    "        print(\"oops\")\n",
    "\n",
    "rock_paper_scissors(player_choice , computer_choice)\n",
    "rock_paper_scissors(computer_choice , player_choice)\n",
    "rock_paper_scissors(player_choice , player_choice)\n",
    "rock_paper_scissors(computer_choice , computer_choice)\n",
    "rock_paper_scissors(\"rock\" , \"paper\")\n",
    "#didnt feel like fixing the elses\n",
    "rock_paper_scissors(\"oops\",\"nothing\")"
   ]
  },
  {
   "cell_type": "code",
   "execution_count": 1,
   "metadata": {
    "id": "z2d5ABEmH9CO"
   },
   "outputs": [
    {
     "name": "stdout",
     "output_type": "stream",
     "text": [
      "isosceles - two sides are the same length\n",
      "equilateral - all three sides are equal in length\n",
      "isosceles - two sides are the same length\n",
      "scalene - all three sides are unequal in length\n"
     ]
    }
   ],
   "source": [
    "# C. Write the code that determines if the triangle is:\n",
    "#      equilateral - all three sides are equal in length\n",
    "#      scalene - all three sides are unequal in length\n",
    "#      isosceles - two sides are the same length\n",
    "side_a = 5\n",
    "side_b = 7\n",
    "side_c = 5\n",
    "\n",
    "def test_triangle(s_a, s_b, s_c):\n",
    "  if s_a == s_b and s_a == s_c:\n",
    "    print(\"equilateral - all three sides are equal in length\")\n",
    "  elif s_a != s_b and s_a != s_c and s_c != s_b:\n",
    "    print('scalene - all three sides are unequal in length')\n",
    "  #elif side_a == side_b and side_a != side_c or side_b == side_c:\n",
    "  else:\n",
    "    print('isosceles - two sides are the same length')\n",
    "\n",
    "test_triangle(side_a, side_b, side_c)\n",
    "test_triangle(side_a, side_a, side_c)\n",
    "test_triangle(side_a, side_b, side_b)\n",
    "test_triangle(side_a, side_b, 4)"
   ]
  },
  {
   "cell_type": "code",
   "execution_count": 46,
   "metadata": {
    "id": "SaB4JE76H9CP"
   },
   "outputs": [
    {
     "name": "stdout",
     "output_type": "stream",
     "text": [
      "spring\n",
      "calendars gone wrong\n",
      "winter\n",
      "spring\n",
      "summer\n"
     ]
    }
   ],
   "source": [
    "# D. Calculate what season it is based upon this chart:\n",
    "#      Dec 21 - Mar 19: Winter\n",
    "#      Mar 20 - Jun 20: Spring\n",
    "#      Jun 21 - Sep 21: Summer\n",
    "#      Sep 22 - Dec 20: Fall\n",
    "# Print the result as follows:\n",
    "#      <Mmm> <dd> is in <season> \n",
    "month = \"Sep\"\n",
    "day = 25\n",
    "\n",
    "def season_calc(m, d):\n",
    "  if m == \"Jan\" or m == \"Feb\" or (m == \"Dec\" and d >=21) or (m == \"Mar\" and d <=19):\n",
    "    return \"summer\"\n",
    "  elif m == \"Apr\" or m == \"May\" or (m == \"Mar\" and d >=20) or (m == \"Jun\" and d <=20):\n",
    "    return \"autumn\"\n",
    "  elif m == \"Jul\" or m == \"Aug\" or (m == \"Jun\" and d >=21) or (m == \"Sep\" and d <=21):\n",
    "    return \"winter\"\n",
    "  elif m == \"Oct\" or m == \"Nov\" or (m == \"Sep\" and d >=22) or (m == \"Dec\" and d <=20):\n",
    "    return \"spring\"\n",
    "  \n",
    "  #elif (m == \"Dec\" and d >=21) or (m == \"Mar\" and d <=19):\n",
    "\n",
    "  #elif (m == \"Mar\" and d >=20) or (m == \"Jun\" and d <=20):\n",
    "\n",
    "  #elif (m == \"Jun\" and d >=21) or (m == \"Sep\" and d <=19):\n",
    "\n",
    "  #elif (m == \"Sep\" and d >=21) or (m == \"Dec\" and d <=19):\n",
    "    \n",
    "  else :\n",
    "    return \"calendars gone wrong\"\n",
    "\n",
    "print(season_calc(month, day))\n",
    "print(season_calc(day, month))\n",
    "print(season_calc(\"Aug\", day))\n",
    "print(season_calc(\"Dec\", 20))\n",
    "print(season_calc(\"Dec\", 21))"
   ]
  },
  {
   "cell_type": "code",
   "execution_count": 49,
   "metadata": {
    "id": "tx03G_EzH9CQ"
   },
   "outputs": [
    {
     "name": "stdout",
     "output_type": "stream",
     "text": [
      "The boat is in a valid, productive state. Go boat!\n",
      "The boat was too heavy and sank\n",
      "The boat sank from disuse\n"
     ]
    }
   ],
   "source": [
    "# E. The Farmer's Boat\n",
    "boat = {\n",
    "    \"has_fox\": True,\n",
    "    \"has_chicken\": False,\n",
    "    \"has_grain\": True\n",
    "}\n",
    "# 1. If all three properties are true, print \"The boat was too heavy and sank\"\n",
    "# 2. If the boat's has_fox and has_chicken properties are true, print \"The fox ate the chicken\" \n",
    "# 3. If the boat's has_chicken and has_grain propertes are true, print \"The chicken ate the grain\"\n",
    "# 4. If none of them are true, print \"The boat sank from disuse\"\n",
    "# 5. Otherwise, print \"The boat is in a valid, productive state. Go boat!\"\n",
    "\n",
    "def boat_check(boat):\n",
    "  if boat.get(\"has_fox\") and boat.get(\"has_chicken\") and boat.get(\"has_grain\"):\n",
    "    return \"The boat was too heavy and sank\"\n",
    "  elif boat.get(\"has_fox\") and boat.get(\"has_chicken\"):\n",
    "    return \"The fox ate the chicken\"\n",
    "  elif boat.get(\"has_chicken\") and boat.get(\"has_grain\"):\n",
    "    return \"The chicken ate the grain\"\n",
    "  elif not boat.get(\"has_fox\") and not boat.get(\"has_chicken\") and not boat.get(\"has_grain\"):\n",
    "    return \"The boat sank from disuse\"\n",
    "  else:\n",
    "    return \"The boat is in a valid, productive state. Go boat!\"\n",
    "\n",
    "print(boat_check(boat))\n",
    "\n",
    "boat2 = {\n",
    "    \"has_fox\": True,\n",
    "    \"has_chicken\": True,\n",
    "    \"has_grain\": True\n",
    "}\n",
    "boat3 = {\n",
    "    \"has_fox\": False,\n",
    "    \"has_chicken\": False,\n",
    "    \"has_grain\": False\n",
    "}\n",
    "print(boat_check(boat2))\n",
    "print(boat_check(boat3))"
   ]
  },
  {
   "cell_type": "code",
   "execution_count": null,
   "metadata": {},
   "outputs": [],
   "source": []
  }
 ],
 "metadata": {
  "colab": {
   "collapsed_sections": [],
   "name": "03. Conditionals.ipynb",
   "provenance": []
  },
  "kernelspec": {
   "display_name": "Python 3 (ipykernel)",
   "language": "python",
   "name": "python3"
  },
  "language_info": {
   "codemirror_mode": {
    "name": "ipython",
    "version": 3
   },
   "file_extension": ".py",
   "mimetype": "text/x-python",
   "name": "python",
   "nbconvert_exporter": "python",
   "pygments_lexer": "ipython3",
   "version": "3.9.12"
  }
 },
 "nbformat": 4,
 "nbformat_minor": 1
}
