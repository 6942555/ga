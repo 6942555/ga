{
 "cells": [
  {
   "cell_type": "markdown",
   "metadata": {
    "id": "TmiE-hVG0x4i"
   },
   "source": [
    "#### Error Scavenger Hunt\n",
    "For each code sample below, add a comment describing, in your own words, what the error type was, what it means, and how to fix it."
   ]
  },
  {
   "cell_type": "code",
   "execution_count": 8,
   "metadata": {
    "id": "FCtQwdeB0x4n",
    "outputId": "1315fe0c-7a19-4b7d-e01f-bdf5cc9e34aa"
   },
   "outputs": [
    {
     "ename": "KeyError",
     "evalue": "'key_error'",
     "output_type": "error",
     "traceback": [
      "\u001b[1;31m---------------------------------------------------------------------------\u001b[0m",
      "\u001b[1;31mKeyError\u001b[0m                                  Traceback (most recent call last)",
      "Input \u001b[1;32mIn [8]\u001b[0m, in \u001b[0;36m<cell line: 4>\u001b[1;34m()\u001b[0m\n\u001b[0;32m      1\u001b[0m errors \u001b[38;5;241m=\u001b[39m {\n\u001b[0;32m      2\u001b[0m     \u001b[38;5;124m\"\u001b[39m\u001b[38;5;124mKey Error\u001b[39m\u001b[38;5;124m\"\u001b[39m : \u001b[38;5;124m\"\u001b[39m\u001b[38;5;124mbig mistake\u001b[39m\u001b[38;5;124m\"\u001b[39m\n\u001b[0;32m      3\u001b[0m }\n\u001b[1;32m----> 4\u001b[0m \u001b[38;5;28mprint\u001b[39m(\u001b[38;5;124mf\u001b[39m\u001b[38;5;124m\"\u001b[39m\u001b[38;5;124mTry to avoid committing a \u001b[39m\u001b[38;5;132;01m{\u001b[39;00merrors[\u001b[38;5;124m'\u001b[39m\u001b[38;5;124mkey_error\u001b[39m\u001b[38;5;124m'\u001b[39m]\u001b[38;5;132;01m}\u001b[39;00m\u001b[38;5;124m\"\u001b[39m)\n",
      "\u001b[1;31mKeyError\u001b[0m: 'key_error'"
     ]
    }
   ],
   "source": [
    "errors = {\n",
    "    \"Key Error\" : \"big mistake\"\n",
    "}\n",
    "print(f\"Try to avoid committing a {errors['key_error']}\")\n",
    "#inconsistent case in variables, key error, change one of the values to match"
   ]
  },
  {
   "cell_type": "code",
   "execution_count": 3,
   "metadata": {
    "id": "YIp9A_2Q0x4q"
   },
   "outputs": [
    {
     "ename": "AttributeError",
     "evalue": "'dict' object has no attribute 'attribute_error'",
     "output_type": "error",
     "traceback": [
      "\u001b[1;31m---------------------------------------------------------------------------\u001b[0m",
      "\u001b[1;31mAttributeError\u001b[0m                            Traceback (most recent call last)",
      "Input \u001b[1;32mIn [3]\u001b[0m, in \u001b[0;36m<cell line: 1>\u001b[1;34m()\u001b[0m\n\u001b[1;32m----> 1\u001b[0m \u001b[38;5;28mprint\u001b[39m(\u001b[38;5;124mf\u001b[39m\u001b[38;5;124m\"\u001b[39m\u001b[38;5;124mSimilarly, it\u001b[39m\u001b[38;5;124m'\u001b[39m\u001b[38;5;124ms easy to make an \u001b[39m\u001b[38;5;132;01m{\u001b[39;00merrors\u001b[38;5;241m.\u001b[39mattribute_error\u001b[38;5;132;01m}\u001b[39;00m\u001b[38;5;124m\"\u001b[39m)\n",
      "\u001b[1;31mAttributeError\u001b[0m: 'dict' object has no attribute 'attribute_error'"
     ]
    }
   ],
   "source": [
    "print(f\"Similarly, it's easy to make an {errors.attribute_error}\")\n",
    "#dict doesnt support attribute_error method, attribute error"
   ]
  },
  {
   "cell_type": "code",
   "execution_count": 1,
   "metadata": {
    "id": "AYtJEDJX0x4r"
   },
   "outputs": [
    {
     "ename": "ModuleNotFoundError",
     "evalue": "No module named 'CodeWithoutErrors'",
     "output_type": "error",
     "traceback": [
      "\u001b[1;31m---------------------------------------------------------------------------\u001b[0m",
      "\u001b[1;31mModuleNotFoundError\u001b[0m                       Traceback (most recent call last)",
      "Input \u001b[1;32mIn [1]\u001b[0m, in \u001b[0;36m<cell line: 1>\u001b[1;34m()\u001b[0m\n\u001b[1;32m----> 1\u001b[0m \u001b[38;5;28;01mimport\u001b[39;00m \u001b[38;5;21;01mCodeWithoutErrors\u001b[39;00m\n",
      "\u001b[1;31mModuleNotFoundError\u001b[0m: No module named 'CodeWithoutErrors'"
     ]
    }
   ],
   "source": [
    "import CodeWithoutErrors\n",
    "#no such module"
   ]
  },
  {
   "cell_type": "code",
   "execution_count": 5,
   "metadata": {
    "id": "yywGj6590x4s",
    "scrolled": true
   },
   "outputs": [
    {
     "ename": "IndexError",
     "evalue": "list index out of range",
     "output_type": "error",
     "traceback": [
      "\u001b[1;31m---------------------------------------------------------------------------\u001b[0m",
      "\u001b[1;31mIndexError\u001b[0m                                Traceback (most recent call last)",
      "Input \u001b[1;32mIn [5]\u001b[0m, in \u001b[0;36m<cell line: 5>\u001b[1;34m()\u001b[0m\n\u001b[0;32m      3\u001b[0m first_place \u001b[38;5;241m=\u001b[39m race_runners[\u001b[38;5;241m1\u001b[39m]\n\u001b[0;32m      4\u001b[0m second_place \u001b[38;5;241m=\u001b[39m race_runners[\u001b[38;5;241m2\u001b[39m]\n\u001b[1;32m----> 5\u001b[0m third_place \u001b[38;5;241m=\u001b[39m \u001b[43mrace_runners\u001b[49m\u001b[43m[\u001b[49m\u001b[38;5;241;43m3\u001b[39;49m\u001b[43m]\u001b[49m\n\u001b[0;32m      7\u001b[0m \u001b[38;5;28mprint\u001b[39m(\u001b[38;5;124m\"\u001b[39m\u001b[38;5;124mThe winners are:\u001b[39m\u001b[38;5;124m\"\u001b[39m, first_place, second_place, third_place)\n",
      "\u001b[1;31mIndexError\u001b[0m: list index out of range"
     ]
    }
   ],
   "source": [
    "race_runners = [\"Yuna\", \"Bill\", \"Hyun\"]\n",
    "\n",
    "first_place = race_runners[1]\n",
    "second_place = race_runners[2]\n",
    "third_place = race_runners[3]\n",
    "\n",
    "print(\"The winners are:\", first_place, second_place, third_place)\n",
    "#list starts at 0 not 1, outside list range, index error"
   ]
  },
  {
   "cell_type": "code",
   "execution_count": 6,
   "metadata": {
    "id": "XRpd0UWG0x4t",
    "scrolled": true
   },
   "outputs": [
    {
     "ename": "IndentationError",
     "evalue": "expected an indented block (1618862145.py, line 3)",
     "output_type": "error",
     "traceback": [
      "\u001b[1;36m  Input \u001b[1;32mIn [6]\u001b[1;36m\u001b[0m\n\u001b[1;33m    print(\"I am invincible!\")\u001b[0m\n\u001b[1;37m    ^\u001b[0m\n\u001b[1;31mIndentationError\u001b[0m\u001b[1;31m:\u001b[0m expected an indented block\n"
     ]
    }
   ],
   "source": [
    "code_is_perfect = False\n",
    "if code_is_perfect:\n",
    "print(\"I am invincible!\")\n",
    "#indentation is more rule than guideline in python, add indent after if statement, syntax"
   ]
  },
  {
   "cell_type": "code",
   "execution_count": 9,
   "metadata": {
    "id": "boCObi3B0x4t",
    "scrolled": true
   },
   "outputs": [
    {
     "ename": "NameError",
     "evalue": "name 'nameless_variable' is not defined",
     "output_type": "error",
     "traceback": [
      "\u001b[1;31m---------------------------------------------------------------------------\u001b[0m",
      "\u001b[1;31mNameError\u001b[0m                                 Traceback (most recent call last)",
      "Input \u001b[1;32mIn [9]\u001b[0m, in \u001b[0;36m<cell line: 1>\u001b[1;34m()\u001b[0m\n\u001b[1;32m----> 1\u001b[0m \u001b[38;5;28mprint\u001b[39m(\u001b[43mnameless_variable\u001b[49m)\n",
      "\u001b[1;31mNameError\u001b[0m: name 'nameless_variable' is not defined"
     ]
    }
   ],
   "source": [
    "print(nameless_variable)\n",
    "#variable not defined, define it, name error"
   ]
  },
  {
   "cell_type": "code",
   "execution_count": null,
   "metadata": {
    "id": "TcswMLhe0x4u",
    "scrolled": true
   },
   "outputs": [],
   "source": [
    "knowledge_of_python = 40\n",
    "if knowledge_of_python > 50 #missing colon, syntax\n",
    "    print(\"you will never make a mistake again\")"
   ]
  },
  {
   "cell_type": "code",
   "execution_count": 7,
   "metadata": {
    "id": "quBjtB4n0x4u",
    "scrolled": true
   },
   "outputs": [
    {
     "ename": "TypeError",
     "evalue": "unsupported operand type(s) for +: 'int' and 'str'",
     "output_type": "error",
     "traceback": [
      "\u001b[1;31m---------------------------------------------------------------------------\u001b[0m",
      "\u001b[1;31mTypeError\u001b[0m                                 Traceback (most recent call last)",
      "Input \u001b[1;32mIn [7]\u001b[0m, in \u001b[0;36m<cell line: 1>\u001b[1;34m()\u001b[0m\n\u001b[1;32m----> 1\u001b[0m \u001b[38;5;28mprint\u001b[39m(\u001b[38;5;241;43m99\u001b[39;49m\u001b[43m \u001b[49m\u001b[38;5;241;43m+\u001b[39;49m\u001b[43m \u001b[49m\u001b[38;5;124;43m\"\u001b[39;49m\u001b[38;5;124;43mRed Balloons\u001b[39;49m\u001b[38;5;124;43m\"\u001b[39;49m)\n",
      "\u001b[1;31mTypeError\u001b[0m: unsupported operand type(s) for +: 'int' and 'str'"
     ]
    }
   ],
   "source": [
    "print(99 + \"Red Balloons\") #unsupported operation, type error, use str(99)? f string to print it all?"
   ]
  },
  {
   "cell_type": "code",
   "execution_count": null,
   "metadata": {
    "id": "x5wKn8sy0x4v"
   },
   "outputs": [],
   "source": [
    "5 + int(\"five\") #cant convert non-numeric representations of integers with int(), type err, \n",
    "# replace 5 or create own conversion function"
   ]
  },
  {
   "cell_type": "markdown",
   "metadata": {
    "id": "5_cbqWXg0x4v"
   },
   "source": [
    "#### Exceptional Error Handling\n",
    "We want to add some restrictions to the user_creation function below:\n",
    "\n",
    "username must be unique. If a user in all_users has the same username, raise an exception.\n",
    "\n",
    "email must match a standard email regex pattern. Hint: this is a classic google situation!\n",
    "\n",
    "password must be at least 8 characters and contain a number. Hint: \"test if a string contains a number python\""
   ]
  },
  {
   "cell_type": "code",
   "execution_count": 13,
   "metadata": {
    "id": "5mQQTbWC0x4w"
   },
   "outputs": [],
   "source": [
    "# A.\n",
    "# Add exception raising to the user creation method to ensure users with invalid properties throw errors\n",
    "# We will store users as dictionaries in a list titled all_users\n",
    "# For each property, raise an exception with a specific error message so we can test the message later\n",
    "# Only fully valid users should make it to the all_users list\n",
    "import re\n",
    "\n",
    "all_users = []\n",
    "regex = re.compile(r'([A-Za-z0-9]+[.-_])*[A-Za-z0-9]+@[A-Za-z0-9-]+(\\.[A-Z|a-z]{2,})+')\n",
    "\n",
    "def user_creation(username, email, password):\n",
    "    record = dict()\n",
    "    record['username'] = username\n",
    "    try:\n",
    "        for user in all_users:\n",
    "            if user.get(\"username\") == username:\n",
    "                raise ValueError(\"Sorry, no dupes\")\n",
    "    except ValueError as u:\n",
    "        print(f\"username fail: {u}\")\n",
    "        raise ValueError(\"username\")\n",
    "    \n",
    "    record['email'] = email\n",
    "    try:\n",
    "        if re.fullmatch(regex, email) == None:\n",
    "            raise ValueError(\"email fails regex\")\n",
    "    except ValueError as e:\n",
    "        print(f\"email fail: {e}\")\n",
    "        raise ValueError(\"email\")       \n",
    "    \n",
    "    record['password'] = password\n",
    "    try:\n",
    "        if len(password) < 8:\n",
    "            raise ValueError(\"Sorry, 8 characters or more\")\n",
    "        if password.isalnum:\n",
    "            if password.isalpha():\n",
    "                raise ValueError(\"Sorry, needs at least a number\")\n",
    "            if password.isnumeric():\n",
    "                raise ValueError(\"Sorry, needs at least a letter\")\n",
    "    except ValueError as p:\n",
    "        print(f\"password fail: {p}\")\n",
    "        raise ValueError(\"password\")\n",
    "    \n",
    "    all_users.append(record)\n",
    "    print(f\"SUCCESSFULLY CREATED THE USER {username} WITH EMAIL {email} AND PASSWORD {password}\")  "
   ]
  },
  {
   "cell_type": "code",
   "execution_count": 14,
   "metadata": {
    "id": "SmFH9WOj0x4x"
   },
   "outputs": [],
   "source": [
    "# what about if there is an error, and we want user input to clean the record up?\n",
    "\n",
    "\n",
    "# B.\n",
    "# Add try/except handling to this function\n",
    "# If an error is raised, check the error message to determine what value is invalid\n",
    "# Use the input function to get a new input for the invalid value\n",
    "# Once you have a new value from the user, invoke create_new_user again with updated input value\n",
    "def create_new_user(username, email, password):\n",
    "    i = 0\n",
    "    new_user = None #\n",
    "    while i <5: #loops the try/except a few times to account for new bad user data (no actual handler if this fails)\n",
    "        i+=1\n",
    "        try:\n",
    "            new_user = user_creation(username, email, password)\n",
    "        except ValueError as e:\n",
    "            print(f\"{username} {email} {password}\")\n",
    "            error_message = e.args[0] #assigns error message to readable var\n",
    "#             cont = False \n",
    "#             while(cont != True):\n",
    "            if error_message == \"username\":\n",
    "                username = input(\"Please enter unique username\\n\")\n",
    "            if error_message == \"email\":\n",
    "                email = input(\"Please enter valid email\\n\")\n",
    "            if error_message == \"password\":\n",
    "                password = input(\"Password must be at least 8 characters, at least one letter and number\\n\")\n",
    "            continue\n",
    "        #if i hits 5 raise error?\n",
    "        break\n",
    "    return new_user"
   ]
  },
  {
   "cell_type": "code",
   "execution_count": 15,
   "metadata": {
    "id": "YsiK80hG0x4x"
   },
   "outputs": [
    {
     "name": "stdout",
     "output_type": "stream",
     "text": [
      "SUCCESSFULLY CREATED THE USER El_Barto WITH EMAIL el_barto@gmail.com AND PASSWORD a1b2c3d4\n",
      "username fail: Sorry, no dupes\n",
      "El_Barto barto_the_second@gmail.com a1b2c3d4\n",
      "Please enter unique username\n",
      "barto\n",
      "SUCCESSFULLY CREATED THE USER barto WITH EMAIL barto_the_second@gmail.com AND PASSWORD a1b2c3d4\n",
      "password fail: Sorry, 8 characters or more\n",
      "pythonista programmer_supreme@hotmail.com 2short\n",
      "Password must be at least 8 characters, at least one letter and number\n",
      "password999\n",
      "SUCCESSFULLY CREATED THE USER pythonista WITH EMAIL programmer_supreme@hotmail.com AND PASSWORD password999\n",
      "password fail: Sorry, needs at least a number\n",
      "verbose_user iliketypingalot@aol.com longenoughbutnodigits\n",
      "Password must be at least 8 characters, at least one letter and number\n",
      "password999\n",
      "SUCCESSFULLY CREATED THE USER verbose_user WITH EMAIL iliketypingalot@aol.com AND PASSWORD password999\n",
      "email fail: email fails regex\n",
      "off_tha_grid none_provided iburygold3\n",
      "Please enter valid email\n",
      "fakeemail@legit.website.com\n",
      "SUCCESSFULLY CREATED THE USER off_tha_grid WITH EMAIL fakeemail@legit.website.com AND PASSWORD iburygold3\n"
     ]
    }
   ],
   "source": [
    "# C.    \n",
    "users_awaiting_creation = [\n",
    "    {\"username\":\"El_Barto\", \"email\":\"el_barto@gmail.com\", \"password\":\"a1b2c3d4\"}, #should be valid\n",
    "    {\"username\":\"El_Barto\", \"email\":\"barto_the_second@gmail.com\", \"password\":\"a1b2c3d4\"}, #should be invalid due to username\n",
    "    {\"username\":\"pythonista\", \"email\":\"programmer_supreme@hotmail.com\", \"password\":\"2short\"}, #should have invalid password length\n",
    "    {\"username\":\"verbose_user\", \"email\":\"iliketypingalot@aol.com\", \"password\":\"longenoughbutnodigits\"}, #should be invalid password due to no digits\n",
    "    {\"username\":\"off_tha_grid\", \"email\":\"none_provided\", \"password\":\"iburygold3\"},\n",
    "]\n",
    "# This loop should raise a good deal of errors due to bad user data\n",
    "# If you've added proper input prompts and error handling, you should be able to type in valid alternatives\n",
    "# By the end, you should see successful creation messages for the 5 users\n",
    "for user in users_awaiting_creation:\n",
    "    new_user = create_new_user(user[\"username\"], user[\"email\"], user[\"password\"])"
   ]
  },
  {
   "cell_type": "code",
   "execution_count": null,
   "metadata": {},
   "outputs": [],
   "source": []
  }
 ],
 "metadata": {
  "colab": {
   "collapsed_sections": [],
   "name": "08. Debugging and Error Handling.ipynb",
   "provenance": []
  },
  "kernelspec": {
   "display_name": "Python 3 (ipykernel)",
   "language": "python",
   "name": "python3"
  },
  "language_info": {
   "codemirror_mode": {
    "name": "ipython",
    "version": 3
   },
   "file_extension": ".py",
   "mimetype": "text/x-python",
   "name": "python",
   "nbconvert_exporter": "python",
   "pygments_lexer": "ipython3",
   "version": "3.9.12"
  }
 },
 "nbformat": 4,
 "nbformat_minor": 1
}
