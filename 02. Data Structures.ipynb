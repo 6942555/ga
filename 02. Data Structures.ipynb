{
 "cells": [
  {
   "cell_type": "code",
   "execution_count": 21,
   "metadata": {},
   "outputs": [
    {
     "name": "stdout",
     "output_type": "stream",
     "text": [
      "The colours of the rainbow are ['red', 'orange', 'yellow', 'green', 'blue', 'indigo', 'violet']\n",
      "The colours of the rainbow are red, orange, yellow, green, blue, indigo and violet\n",
      "slightly pink excessively brown\n",
      "The colours of the rainbow are slightly pink, orange, yellow, green, excessively brown, indigo and violet\n"
     ]
    }
   ],
   "source": [
    "# 2.1 Colors of the Rainbow\n",
    "# A. Make a list called colors that stores 7 strings, each a color of the rainbow\n",
    "\n",
    "# B. Then, print the following string, using list indices to access the specific colors:\n",
    "# \"The colors of the rainbow are red, orange, yellow, green, blue, indigo, and violet\"\n",
    "#  String concatenation might get a bit complex to read: try using an f-string for string interpolation!\n",
    "\n",
    "# C. Change two of the colors to more descriptive names, such as \"Lightning Yellow\" or \"Deep Sea Blue\"\n",
    "\n",
    "# D. Print the two new color names using list indices to access them\n",
    "\n",
    "# E. Print the colors variable to see the difference between printing a specific item and printing the list itself\n",
    "\n",
    "colours = [\"red\",\"orange\",\"yellow\",\"green\",\"blue\",\"indigo\",\"violet\"]\n",
    "setup = \"The colours of the rainbow are \"\n",
    "print(f\"{setup}{colours}\")\n",
    "print(f\"{setup}{colours[0]}, {colours[1]}, {colours[2]}, {colours[3]}, {colours[4]},\\\n",
    " {colours[5]} and {colours[6]}\")\n",
    "colours[0] = \"slightly pink\"\n",
    "colours [4] = \"excessively brown\"\n",
    "print(f\"{colours[0]} {colours[4]}\")\n",
    "print(f\"{setup}{colours[0]}, {colours[1]}, {colours[2]}, {colours[3]}, {colours[4]},\\\n",
    " {colours[5]} and {colours[6]}\")"
   ]
  },
  {
   "cell_type": "code",
   "execution_count": 44,
   "metadata": {},
   "outputs": [
    {
     "name": "stdout",
     "output_type": "stream",
     "text": [
      "['Alice', 'Boris', 'Carmen', 'Diego']\n",
      "['Alyce', 'Boris', 'Carmen', 'Diego']\n",
      "['Aaron', 'Alyce', 'Boris', 'Carmen', 'Diego']\n",
      " Boris' position is 2, because he's not related to anyone giving us money\n",
      "['Aaron', 'Alyce', 'Boris', 'Diego']\n",
      "['Alyce', 'Boris', 'Diego']\n",
      "['Alyce', 'DeSean', 'Boris', 'Diego']\n"
     ]
    }
   ],
   "source": [
    "# 2.2 The Wait List\n",
    "# You will have to research some new methods to use for these challenges\n",
    "# You can use print statements to investigate whether your changes have succeeded as expected\n",
    "candidates = [\"Alice\", \"Boris\", \"Carmen\"]\n",
    "\n",
    "# A. A promising new applicant, Diego, needs to be added to the end of the list\n",
    "#append\n",
    "candidates.append(\"Diego\")\n",
    "print(candidates)\n",
    "# B. Alice has informed us of a typo on their application: change their name to \"Alyce\"\n",
    "#cand[0] = alyce\n",
    "candidates[0] = \"Alyce\"\n",
    "print(candidates)\n",
    "# C. One of our generous donors has a nephew, Aaron, who should be added to the very front of the list\n",
    "#insert at 0\n",
    "candidates.insert(0, \"Aaron\")\n",
    "print(candidates)\n",
    "# D. Boris's parents are concerned. Use the .index() method to print a message explaining Boris's place in the list\n",
    "print(f\" Boris' position is {candidates.index('Boris')}, because he's not related to anyone giving us money\")\n",
    "\n",
    "# E. Carmen is upset by the priority given to relatives of donors, and has withdrawn their application.\n",
    "#    Use the .remove() method to remove them from the list.\n",
    "purge = candidates.index(\"Carmen\")\n",
    "candidates.pop(purge)\n",
    "print(candidates)\n",
    "\n",
    "# F. Use a method to remove the very first student in the list, as they have now been accepted!\n",
    "candidates.pop(0)\n",
    "print(candidates)\n",
    "# G. DeSean has submitted an impressive personal statement. Place them at index 1 by using .insert()\n",
    "candidates.insert(1,\"DeSean\")\n",
    "# H. We've been audited by the Board for Educational Fairness! Print the list of candidates.\n",
    "#    It should look like this: [\"Alyce\", \"DeSean\", Boris\", \"Diego\"]\n",
    "print(candidates)"
   ]
  },
  {
   "cell_type": "code",
   "execution_count": 4,
   "metadata": {},
   "outputs": [
    {
     "name": "stdout",
     "output_type": "stream",
     "text": [
      "This 3 bedroom house costs 750000\n",
      "825000.0\n",
      "at 750 square feet, the house is 1100.0 per foot\n",
      "{'address': '123 Fake Street', 'price': 825000.0, 'bedrooms': 3, 'zip_code': 95404, 'sq_feet': 750, 'sold_status': True, 'status': 'sold'}\n"
     ]
    }
   ],
   "source": [
    "# 2.3 Key Value Properties\n",
    "# Use the house dictionary for the following challenges\n",
    "house = { \"address\": \"123 Fake Street\", \"price\": 750000, \"bedrooms\": 3}\n",
    "\n",
    "# A. Buyers can't find the house without a zip code! Add a zip_code property equal to \"95404\"\n",
    "house[\"zip_code\"] = 95404\n",
    "# B. Our web designers want a statement reading: \"This 3 bedroom house costs 250000\"\n",
    "#    Print that statement by accessing the values from the dictionary: do NOT \"hard-code\" the string!\n",
    "print(f'This {house[\"bedrooms\"]} bedroom house costs {house[\"price\"]}')\n",
    "# C. We're getting a lot of interest in the house! Let's increase the price by 10%\n",
    "house[\"price\"] += house[\"price\"] * .10\n",
    "print(house[\"price\"])\n",
    "# D. Buyers are surprised at how small the house is. Let's add a square_feet property equal to 750\n",
    "house[\"sq_feet\"] = 750\n",
    "# E. We want to show off the value per foot. Print a message explaining the price per square foot.\n",
    "sq_price = house[\"price\"]/house[\"sq_feet\"]\n",
    "print(f'at {house[\"sq_feet\"]} square feet, the house is {sq_price} per foot')\n",
    "# F. After 2 long hours on the market, the house has finally sold! Add a status property equal to \"sold\"\n",
    "house[\"sold_status\"] = True\n",
    "house[\"status\"] = \"sold\"\n",
    "# G. Print the entire listing. You should see a dictionary similar to the following:\n",
    "# {address: \"123 Fake Street\", price: 825000, bedrooms: 3, zip_code: \"95404\" square_feet: 750, status: \"sold\"}\n",
    "print(house)"
   ]
  },
  {
   "cell_type": "code",
   "execution_count": 2,
   "metadata": {},
   "outputs": [],
   "source": [
    "# 2.4 Python Librarian\n",
    "\n",
    "authors = {\n",
    "    \"Arundhati Roy\": {\n",
    "        \"genre\": \"literary fiction\",\n",
    "        \"books\": [\n",
    "            \"The God of Small Things\",\n",
    "            \"The Ministry of Utmost Happiness\"\n",
    "        ],\n",
    "        \"active\": True\n",
    "    },\n",
    "    \"Brandon Sanderson\": {\n",
    "        \"genre\": \"fantasy\",\n",
    "        \"books\": [\n",
    "            \"The Way of Kings\",\n",
    "            \"Words of Radiance\",\n",
    "            \"Oathbringer\"\n",
    "        ],\n",
    "        \"active\": True,\n",
    "        \"phone\": {\n",
    "            \"home\": \"(281) 330-8004\",\n",
    "            \"work\": \"(877) CASH-NOW\"\n",
    "        }\n",
    "    },\n",
    "    \"Kobo Abe\": {\n",
    "        \"genre\": \"absurdist fiction\",\n",
    "        \"books\": [\n",
    "            \"The Woman in the Dunes\",\n",
    "            \"The Face of Another\"\n",
    "        ],\n",
    "        \"active\": False\n",
    "    },\n",
    "}"
   ]
  },
  {
   "cell_type": "code",
   "execution_count": 61,
   "metadata": {},
   "outputs": [
    {
     "name": "stdout",
     "output_type": "stream",
     "text": [
      "The Ministry of Utmost Happiness\n"
     ]
    }
   ],
   "source": [
    "# A. Access and print Arundhati Roy's first book\n",
    "print(authors[\"Arundhati Roy\"][\"books\"][0])"
   ]
  },
  {
   "cell_type": "code",
   "execution_count": 64,
   "metadata": {},
   "outputs": [
    {
     "name": "stdout",
     "output_type": "stream",
     "text": [
      "(877) CASH-NOW\n"
     ]
    }
   ],
   "source": [
    "# B. We need to contact Brandon at work: access and print their work phone number\n",
    "print(authors[\"Brandon Sanderson\"][\"phone\"][\"work\"])"
   ]
  },
  {
   "cell_type": "code",
   "execution_count": 126,
   "metadata": {},
   "outputs": [
    {
     "name": "stdout",
     "output_type": "stream",
     "text": [
      "['literary fiction', 'fantasy', 'absurdist fiction']\n"
     ]
    }
   ],
   "source": [
    "# C. Create a list composed of all the genres available in our library\n",
    "genre_list = []\n",
    "for authors in authors.values():\n",
    "    cur_gen = authors['genre']\n",
    "    if cur_gen not in genre_list:\n",
    "        genre_list.append(cur_gen)\n",
    "print(genre_list)\n",
    "#print(genre_list)"
   ]
  },
  {
   "cell_type": "code",
   "execution_count": 89,
   "metadata": {},
   "outputs": [
    {
     "name": "stdout",
     "output_type": "stream",
     "text": [
      "[['The God of Small Things', 'The Ministry of Utmost Happiness'], ['The Way of Kings', 'Words of Radiance', 'Oathbringer'], ['The Woman in the Dunes', 'The Face of Another']]\n"
     ]
    }
   ],
   "source": [
    "# D. Create a list of all books available in our library\n",
    "book_list = []\n",
    "for authors in authors.values():\n",
    "    book_list.append(authors['books'])\n",
    "    #checks for multiple authors and duplicates seem unneccesary currently \n",
    "print(book_list)"
   ]
  },
  {
   "cell_type": "code",
   "execution_count": 142,
   "metadata": {},
   "outputs": [
    {
     "name": "stdout",
     "output_type": "stream",
     "text": [
      "['literary fiction', 'non-fiction']\n"
     ]
    }
   ],
   "source": [
    "# E. Arundhati has decided to expand their range of genres and tackle non-fiction\n",
    "#    Modify their \"genre\" property to now be a list that also includes non-fiction\n",
    "authors.keys()\n",
    "authors['Arundhati Roy']['genre'] = ['literary fiction', 'non-fiction']\n",
    "print(f'{authors[\"Arundhati Roy\"][\"genre\"]}')"
   ]
  },
  {
   "cell_type": "code",
   "execution_count": 3,
   "metadata": {},
   "outputs": [
    {
     "name": "stdout",
     "output_type": "stream",
     "text": [
      "{'genre': 'fantasy', 'books': ['The Way of Kings', 'Words of Radiance', 'Oathbringer'], 'active': False}\n"
     ]
    }
   ],
   "source": [
    "# F. Brandon Sanderson is retiring. Change their active property to False.\n",
    "#    BONUS: This means we should no longer contact them. Delete their \"phone\" property\n",
    "\n",
    "def retire_author(author_name):\n",
    "    authors[author_name][\"active\"] = False\n",
    "    authors[author_name].pop(\"phone\")\n",
    "    print(f'{authors.get(author_name)}')\n",
    "\n",
    "retire_author(\"Brandon Sanderson\")"
   ]
  },
  {
   "cell_type": "code",
   "execution_count": 145,
   "metadata": {},
   "outputs": [
    {
     "name": "stdout",
     "output_type": "stream",
     "text": [
      "{'Arundhati Roy': {'genre': ['literary fiction', 'non-fiction'], 'books': ['The God of Small Things', 'The Ministry of Utmost Happiness'], 'active': True}, 'Brandon Sanderson': {'genre': 'fantasy', 'books': ['The Way of Kings', 'Words of Radiance', 'Oathbringer'], 'active': False}, 'Kobo Abe': {'genre': 'absurdist fiction', 'books': ['The Woman in the Dunes', 'The Face of Another'], 'active': False}, 'Joe Abercrombie': {'genre': ['fantasy', 'short fiction'], 'books': ['The Blade Itself', 'Best Served Cold', 'Last Argument of Kings'], 'active': True, 'extras': {'game interests': ['Civilization', 'Age of Empires'], 'prior work': 'film editing'}}}\n"
     ]
    }
   ],
   "source": [
    "# G. Add a new author to our collection of your choice. Make sure they have:\n",
    "#    i. A genre property equal to a string or list of strings\n",
    "#    ii. A books property equal to a list of strings\n",
    "#    iii. An active property equal to a boolean\n",
    "#    iv. Another property that is also a dictionary with one or more properties\n",
    "new_author = {\n",
    "    \"genre\": [\"fantasy\", \n",
    "               \"short fiction\"],\n",
    "     \"books\": [\n",
    "        \"The Blade Itself\",\n",
    "         \"Best Served Cold\",\n",
    "         \"Last Argument of Kings\"\n",
    "     ],\n",
    "    \"active\": True,\n",
    "    \"extras\": {\n",
    "        \"game interests\": [\"Civilization\",\n",
    "                            \"Age of Empires\"],\n",
    "        \"prior work\": \"film editing\"\n",
    "    }\n",
    "}\n",
    "#print(authors)\n",
    "#print(new_author)\n",
    "authors[\"Joe Abercrombie\"] = new_author\n",
    "print(authors)"
   ]
  },
  {
   "cell_type": "code",
   "execution_count": null,
   "metadata": {},
   "outputs": [],
   "source": []
  }
 ],
 "metadata": {
  "kernelspec": {
   "display_name": "Python 3 (ipykernel)",
   "language": "python",
   "name": "python3"
  },
  "language_info": {
   "codemirror_mode": {
    "name": "ipython",
    "version": 3
   },
   "file_extension": ".py",
   "mimetype": "text/x-python",
   "name": "python",
   "nbconvert_exporter": "python",
   "pygments_lexer": "ipython3",
   "version": "3.9.12"
  }
 },
 "nbformat": 4,
 "nbformat_minor": 4
}
