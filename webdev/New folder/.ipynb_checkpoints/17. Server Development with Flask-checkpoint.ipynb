{
 "cells": [
  {
   "cell_type": "markdown",
   "metadata": {},
   "source": [
    "#### 1. Running a Flask Server"
   ]
  },
  {
   "cell_type": "code",
   "execution_count": 3,
   "metadata": {},
   "outputs": [
    {
     "name": "stdout",
     "output_type": "stream",
     "text": [
      "Requirement already satisfied: flask in d:\\anaconda\\lib\\site-packages (1.1.2)\n",
      "Requirement already satisfied: itsdangerous>=0.24 in d:\\anaconda\\lib\\site-packages (from flask) (2.0.1)\n",
      "Requirement already satisfied: click>=5.1 in d:\\anaconda\\lib\\site-packages (from flask) (8.0.4)\n",
      "Requirement already satisfied: Jinja2>=2.10.1 in d:\\anaconda\\lib\\site-packages (from flask) (2.11.3)\n",
      "Requirement already satisfied: Werkzeug>=0.15 in d:\\anaconda\\lib\\site-packages (from flask) (2.0.3)\n",
      "Requirement already satisfied: colorama in d:\\anaconda\\lib\\site-packages (from click>=5.1->flask) (0.4.4)\n",
      "Requirement already satisfied: MarkupSafe>=0.23 in d:\\anaconda\\lib\\site-packages (from Jinja2>=2.10.1->flask) (2.0.1)\n",
      "Note: you may need to restart the kernel to use updated packages.\n"
     ]
    }
   ],
   "source": [
    "%pip install flask\n",
    "\n",
    "\n",
    "\n"
   ]
  },
  {
   "cell_type": "code",
   "execution_count": 1,
   "metadata": {},
   "outputs": [],
   "source": [
    "from flask import Flask # import the Flask class to create an app\n",
    "\n",
    "app = Flask(__name__) # invoke the Flask clas\n"
   ]
  },
  {
   "cell_type": "code",
   "execution_count": 2,
   "metadata": {},
   "outputs": [
    {
     "data": {
      "text/plain": [
       "['__call__',\n",
       " '__class__',\n",
       " '__delattr__',\n",
       " '__dict__',\n",
       " '__dir__',\n",
       " '__doc__',\n",
       " '__eq__',\n",
       " '__format__',\n",
       " '__ge__',\n",
       " '__getattribute__',\n",
       " '__gt__',\n",
       " '__hash__',\n",
       " '__init__',\n",
       " '__init_subclass__',\n",
       " '__le__',\n",
       " '__lt__',\n",
       " '__module__',\n",
       " '__ne__',\n",
       " '__new__',\n",
       " '__reduce__',\n",
       " '__reduce_ex__',\n",
       " '__repr__',\n",
       " '__setattr__',\n",
       " '__sizeof__',\n",
       " '__str__',\n",
       " '__subclasshook__',\n",
       " '__weakref__',\n",
       " '_before_request_lock',\n",
       " '_blueprint_order',\n",
       " '_find_error_handler',\n",
       " '_get_exc_class_and_code',\n",
       " '_got_first_request',\n",
       " '_register_error_handler',\n",
       " '_static_folder',\n",
       " '_static_url_path',\n",
       " 'add_template_filter',\n",
       " 'add_template_global',\n",
       " 'add_template_test',\n",
       " 'add_url_rule',\n",
       " 'after_request',\n",
       " 'after_request_funcs',\n",
       " 'app_context',\n",
       " 'app_ctx_globals_class',\n",
       " 'auto_find_instance_path',\n",
       " 'before_first_request',\n",
       " 'before_first_request_funcs',\n",
       " 'before_request',\n",
       " 'before_request_funcs',\n",
       " 'blueprints',\n",
       " 'cli',\n",
       " 'config',\n",
       " 'config_class',\n",
       " 'context_processor',\n",
       " 'create_global_jinja_loader',\n",
       " 'create_jinja_environment',\n",
       " 'create_url_adapter',\n",
       " 'debug',\n",
       " 'default_config',\n",
       " 'dispatch_request',\n",
       " 'do_teardown_appcontext',\n",
       " 'do_teardown_request',\n",
       " 'endpoint',\n",
       " 'env',\n",
       " 'error_handler_spec',\n",
       " 'errorhandler',\n",
       " 'extensions',\n",
       " 'finalize_request',\n",
       " 'full_dispatch_request',\n",
       " 'get_send_file_max_age',\n",
       " 'got_first_request',\n",
       " 'handle_exception',\n",
       " 'handle_http_exception',\n",
       " 'handle_url_build_error',\n",
       " 'handle_user_exception',\n",
       " 'has_static_folder',\n",
       " 'import_name',\n",
       " 'inject_url_defaults',\n",
       " 'instance_path',\n",
       " 'iter_blueprints',\n",
       " 'jinja_env',\n",
       " 'jinja_environment',\n",
       " 'jinja_loader',\n",
       " 'jinja_options',\n",
       " 'json_decoder',\n",
       " 'json_encoder',\n",
       " 'log_exception',\n",
       " 'logger',\n",
       " 'make_config',\n",
       " 'make_default_options_response',\n",
       " 'make_null_session',\n",
       " 'make_response',\n",
       " 'make_shell_context',\n",
       " 'name',\n",
       " 'open_instance_resource',\n",
       " 'open_resource',\n",
       " 'open_session',\n",
       " 'permanent_session_lifetime',\n",
       " 'preprocess_request',\n",
       " 'preserve_context_on_exception',\n",
       " 'process_response',\n",
       " 'propagate_exceptions',\n",
       " 'raise_routing_exception',\n",
       " 'register_blueprint',\n",
       " 'register_error_handler',\n",
       " 'request_class',\n",
       " 'request_context',\n",
       " 'response_class',\n",
       " 'root_path',\n",
       " 'route',\n",
       " 'run',\n",
       " 'save_session',\n",
       " 'secret_key',\n",
       " 'select_jinja_autoescape',\n",
       " 'send_file_max_age_default',\n",
       " 'send_static_file',\n",
       " 'session_cookie_name',\n",
       " 'session_interface',\n",
       " 'shell_context_processor',\n",
       " 'shell_context_processors',\n",
       " 'should_ignore_error',\n",
       " 'static_folder',\n",
       " 'static_url_path',\n",
       " 'subdomain_matching',\n",
       " 'teardown_appcontext',\n",
       " 'teardown_appcontext_funcs',\n",
       " 'teardown_request',\n",
       " 'teardown_request_funcs',\n",
       " 'template_context_processors',\n",
       " 'template_filter',\n",
       " 'template_folder',\n",
       " 'template_global',\n",
       " 'template_test',\n",
       " 'templates_auto_reload',\n",
       " 'test_cli_runner',\n",
       " 'test_cli_runner_class',\n",
       " 'test_client',\n",
       " 'test_client_class',\n",
       " 'test_request_context',\n",
       " 'testing',\n",
       " 'trap_http_exception',\n",
       " 'try_trigger_before_first_request_functions',\n",
       " 'update_template_context',\n",
       " 'url_build_error_handlers',\n",
       " 'url_default_functions',\n",
       " 'url_defaults',\n",
       " 'url_map',\n",
       " 'url_map_class',\n",
       " 'url_rule_class',\n",
       " 'url_value_preprocessor',\n",
       " 'url_value_preprocessors',\n",
       " 'use_x_sendfile',\n",
       " 'view_functions',\n",
       " 'wsgi_app']"
      ]
     },
     "execution_count": 2,
     "metadata": {},
     "output_type": "execute_result"
    }
   ],
   "source": [
    "dir(app)"
   ]
  },
  {
   "cell_type": "markdown",
   "metadata": {},
   "source": [
    "#### 2. API Routes\n",
    "Create each of the seven RESTful routes for \"/reviews\", responding with a string describing what the route's purpose is. Note that, in order for these routes to be part of the app, you will have to move the app.run()  conditional statement to be the very last piece of code in the app."
   ]
  },
  {
   "cell_type": "code",
   "execution_count": null,
   "metadata": {},
   "outputs": [],
   "source": [
    "# A. index\n",
    "#home page of reviews\n",
    "\n",
    "@app.route('/') # define the first route, the home route\n",
    "def index(): # define the function that responds to the above route\n",
    "  return 'Hello, World!'"
   ]
  },
  {
   "cell_type": "code",
   "execution_count": null,
   "metadata": {},
   "outputs": [],
   "source": [
    "# B. create"
   ]
  },
  {
   "cell_type": "code",
   "execution_count": null,
   "metadata": {},
   "outputs": [],
   "source": [
    "# C. show"
   ]
  },
  {
   "cell_type": "code",
   "execution_count": null,
   "metadata": {},
   "outputs": [],
   "source": [
    "# D. update"
   ]
  },
  {
   "cell_type": "code",
   "execution_count": null,
   "metadata": {},
   "outputs": [],
   "source": [
    "# E. delete"
   ]
  },
  {
   "cell_type": "code",
   "execution_count": null,
   "metadata": {},
   "outputs": [],
   "source": [
    "# F. new"
   ]
  },
  {
   "cell_type": "code",
   "execution_count": null,
   "metadata": {},
   "outputs": [],
   "source": [
    "# G. edit"
   ]
  },
  {
   "cell_type": "code",
   "execution_count": null,
   "metadata": {},
   "outputs": [],
   "source": [
    "if __name__ == '__main__':\n",
    "    app.run() # Start the server listening for requests"
   ]
  }
 ],
 "metadata": {
  "kernelspec": {
   "display_name": "Python 3 (ipykernel)",
   "language": "python",
   "name": "python3"
  },
  "language_info": {
   "codemirror_mode": {
    "name": "ipython",
    "version": 3
   },
   "file_extension": ".py",
   "mimetype": "text/x-python",
   "name": "python",
   "nbconvert_exporter": "python",
   "pygments_lexer": "ipython3",
   "version": "3.9.12"
  }
 },
 "nbformat": 4,
 "nbformat_minor": 4
}
