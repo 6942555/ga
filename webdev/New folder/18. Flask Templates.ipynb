{
 "cells": [
  {
   "cell_type": "code",
   "execution_count": null,
   "metadata": {
    "id": "mWElaLcoJEAr"
   },
   "outputs": [],
   "source": [
    "# To fake a database, the collection below will be our application's \"data\"\n",
    "reviews = [\n",
    "    {\"book_title\":\"Confessions of a Python Programmer\", \"review_text\":\"A cautionary tale for all would-be programmers\", \"score\":5, \"id\":\"1\"},\n",
    "    {\"book_title\":\"To Serve Man\", \"review_text\":\"Delicious recipes\", \"score\":3, \"id\":\"2\"},\n",
    "    {\"book_title\":\"Pride and Prejudice\", \"review_text\":\"The pride is ok but the prejudice not so much\", \"score\":4, \"id\":\"3\"},\n",
    "]"
   ]
  },
  {
   "cell_type": "code",
   "execution_count": 1,
   "metadata": {
    "id": "tD8HjUayJEAv"
   },
   "outputs": [],
   "source": [
    "from flask import Flask, render_template, request # import what we need to use from the flask library\n",
    "\n",
    "\n",
    "app = Flask(__name__) # invoke the Flask clas"
   ]
  },
  {
   "cell_type": "markdown",
   "metadata": {
    "id": "HPvMS_kYJEAw"
   },
   "source": [
    "#### 1. Example template route"
   ]
  },
  {
   "cell_type": "code",
   "execution_count": null,
   "metadata": {
    "id": "b8ic_wZzJEAy"
   },
   "outputs": [],
   "source": [
    "@app.route(\"/example\")\n",
    "def example_route():\n",
    "    return render_template(\"example.html\", adjective=\"fun\")"
   ]
  },
  {
   "cell_type": "markdown",
   "metadata": {
    "id": "dBFQz7C3JEAz"
   },
   "source": [
    "#### 2. Show Route"
   ]
  },
  {
   "cell_type": "code",
   "execution_count": null,
   "metadata": {
    "id": "PRzeFXErJEAz"
   },
   "outputs": [],
   "source": [
    "# Create a route with the url reviews/ID, where ID is a route variable\n",
    "# Render the show.html template, providing the review with the matching id\n",
    "# In the show.html template, display the book_title and review_text information.\n",
    "# The book_title should be an h2 element, while the review_text should be a paragraph element\n",
    "# Hint: You will have to loop through the list to find the right review to provide\n"
   ]
  },
  {
   "cell_type": "markdown",
   "metadata": {
    "id": "dK7gH-SzJEA0"
   },
   "source": [
    "#### 3. Index Route"
   ]
  },
  {
   "cell_type": "code",
   "execution_count": null,
   "metadata": {
    "id": "bIsHPcyPJEA1"
   },
   "outputs": [],
   "source": [
    "# Create a route with the url \"reviews\"\n",
    "# Render the index.html template, providing the entire list of reviews as a keyword argument\n"
   ]
  },
  {
   "cell_type": "markdown",
   "metadata": {
    "id": "R0ZvEEXzJEA3"
   },
   "source": [
    "#### 4. Create Route"
   ]
  },
  {
   "cell_type": "code",
   "execution_count": null,
   "metadata": {
    "id": "ZPIUUWM2JEA4"
   },
   "outputs": [],
   "source": [
    "# Create a route that accepts a POST request to \"/reviews\"\n",
    "# The route should create a new_review dictionary that contains the attached request's data\n",
    "# Add the new_review dictionary to the reviews list\n",
    "# Return a dictionary as follows: { \"status\": 201, \"data\": reviews } as the response from this route\n"
   ]
  },
  {
   "cell_type": "code",
   "execution_count": 4,
   "metadata": {},
   "outputs": [],
   "source": [
    "import requests"
   ]
  },
  {
   "cell_type": "code",
   "execution_count": 16,
   "metadata": {},
   "outputs": [],
   "source": [
    "r = requests.get(\"http://localhost:5000/reviews\")\n"
   ]
  },
  {
   "cell_type": "code",
   "execution_count": 17,
   "metadata": {},
   "outputs": [
    {
     "data": {
      "text/plain": [
       "b'<!DOCTYPE html>\\n<html lang=\"en\">\\n<head>\\n    <meta charset=\"UTF-8\">\\n    <meta http-equiv=\"X-UA-Compatible\" content=\"IE=edge\">\\n    <meta name=\"viewport\" content=\"width=device-width, initial-scale=1.0\">\\n    <title>Document</title>\\n</head>\\n<body>\\n    <h1>Reviews!</h1>\\n    \\n    <h2> Confessions of a Python Programmer</h2>\\n    <h5> 5</h5>\\n    <p>A cautionary tale for all would-be programmers</p>\\n    \\n    <h2> To Serve Man</h2>\\n    <h5> 3</h5>\\n    <p>Delicious recipes</p>\\n    \\n    <h2> Pride and Prejudice</h2>\\n    <h5> 4</h5>\\n    <p>The pride is ok but the prejudice not so much</p>\\n    \\n</body>\\n</html>\\n'"
      ]
     },
     "execution_count": 17,
     "metadata": {},
     "output_type": "execute_result"
    }
   ],
   "source": [
    "r.content"
   ]
  },
  {
   "cell_type": "code",
   "execution_count": 22,
   "metadata": {},
   "outputs": [
    {
     "data": {
      "text/plain": [
       "{'data': \"[{'book_title': 'Confessions of a Python Programmer', 'review_text': 'A cautionary tale for all would-be programmers', 'score': 5, 'id': '1'}, {'book_title': 'To Serve Man', 'review_text': 'Delicious recipes', 'score': 3, 'id': '2'}, {'book_title': 'Pride and Prejudice', 'review_text': 'The pride is ok but the prejudice not so much', 'score': 4, 'id': '3'}]\",\n",
       " 'response_code': 201}"
      ]
     },
     "execution_count": 22,
     "metadata": {},
     "output_type": "execute_result"
    }
   ],
   "source": [
    "url = \"http://localhost:5000/reviews\"\n",
    "r = requests.post(url)\n",
    "r.json()"
   ]
  },
  {
   "cell_type": "code",
   "execution_count": 24,
   "metadata": {
    "id": "0yZrrwn4JEA5",
    "scrolled": true
   },
   "outputs": [
    {
     "data": {
      "text/plain": [
       "{'data': \"[{'book_title': 'Confessions of a Python Programmer', 'review_text': 'A cautionary tale for all would-be programmers', 'score': 5, 'id': '1'}, {'book_title': 'To Serve Man', 'review_text': 'Delicious recipes', 'score': 3, 'id': '2'}, {'book_title': 'Pride and Prejudice', 'review_text': 'The pride is ok but the prejudice not so much', 'score': 4, 'id': '3'}, {'book_title': 'War and Peace 2: Andrei Rises Again', 'review_text': 'Tolstoy should have stopped with the first one.', 'score': 2}, {'book_title': 'War and Peace 2: Andrei Rises Again', 'review_text': 'Tolstoy should have stopped with the first one.', 'score': 2}]\",\n",
       " 'response_code': 201}"
      ]
     },
     "execution_count": 24,
     "metadata": {},
     "output_type": "execute_result"
    }
   ],
   "source": [
    "# Enter the commands below into a separate notebook file to send a test request to your Create route\n",
    "\n",
    "url = \"http://localhost:5000/reviews\"\n",
    "data={\"book_title\":\"War and Peace 2: Andrei Rises Again\", \"review_text\":\"Tolstoy should have stopped with the first one.\",\"score\":2}\n",
    "r = requests.post(url, json=data)\n",
    "r.json()\n",
    "\n",
    "              \n",
    "        \n"
   ]
  },
  {
   "cell_type": "code",
   "execution_count": null,
   "metadata": {
    "id": "d7q6ml5QJEA5",
    "scrolled": true
   },
   "outputs": [],
   "source": [
    "if __name__ == '__main__':\n",
    "    app.run() # Start the server listening for requests"
   ]
  },
  {
   "cell_type": "code",
   "execution_count": null,
   "metadata": {
    "id": "AobDivj1JEA6"
   },
   "outputs": [],
   "source": []
  }
 ],
 "metadata": {
  "colab": {
   "name": "18. Flask Templates.ipynb",
   "provenance": []
  },
  "kernelspec": {
   "display_name": "Python 3 (ipykernel)",
   "language": "python",
   "name": "python3"
  },
  "language_info": {
   "codemirror_mode": {
    "name": "ipython",
    "version": 3
   },
   "file_extension": ".py",
   "mimetype": "text/x-python",
   "name": "python",
   "nbconvert_exporter": "python",
   "pygments_lexer": "ipython3",
   "version": "3.9.12"
  }
 },
 "nbformat": 4,
 "nbformat_minor": 1
}
